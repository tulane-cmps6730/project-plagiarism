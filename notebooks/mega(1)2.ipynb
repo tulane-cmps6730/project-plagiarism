{
  "cells": [
    {
      "cell_type": "code",
      "execution_count": null,
      "metadata": {
        "id": "2eSvM9zX_2d3"
      },
      "outputs": [],
      "source": [
        "%%capture\n",
        "# Installs Unsloth, Xformers (Flash Attention) and all other packages!\n",
        "!pip install \"unsloth[colab-new] @ git+https://github.com/unslothai/unsloth.git\"\n",
        "!pip install --no-deps \"xformers<0.0.26\" trl peft accelerate bitsandbytes"
      ]
    },
    {
      "cell_type": "code",
      "execution_count": null,
      "metadata": {
        "colab": {
          "base_uri": "https://localhost:8080/"
        },
        "id": "QmUBVEnvCDJv",
        "outputId": "35ef52fe-f2b3-4e3f-9ac0-d2b0bedb6760"
      },
      "outputs": [
        {
          "name": "stdout",
          "output_type": "stream",
          "text": [
            "==((====))==  Unsloth: Fast Mistral patching release 2024.4\n",
            "   \\\\   /|    GPU: Tesla T4. Max memory: 14.748 GB. Platform = Linux.\n",
            "O^O/ \\_/ \\    Pytorch: 2.2.1+cu121. CUDA = 7.5. CUDA Toolkit = 12.1.\n",
            "\\        /    Bfloat16 = FALSE. Xformers = 0.0.25.post1. FA = False.\n",
            " \"-____-\"     Free Apache license: http://github.com/unslothai/unsloth\n"
          ]
        },
        {
          "name": "stderr",
          "output_type": "stream",
          "text": [
            "Unused kwargs: ['quant_method']. These kwargs are not used in <class 'transformers.utils.quantization_config.BitsAndBytesConfig'>.\n"
          ]
        }
      ],
      "source": [
        "from unsloth import FastLanguageModel\n",
        "import torch\n",
        "max_seq_length = 2048\n",
        "dtype = None\n",
        "load_in_4bit = True\n",
        "\n",
        "\n",
        "fourbit_models = [\n",
        "    \"unsloth/mistral-7b-bnb-4bit\",\n",
        "    \"unsloth/mistral-7b-instruct-v0.2-bnb-4bit\",\n",
        "    \"unsloth/llama-2-7b-bnb-4bit\",\n",
        "    \"unsloth/llama-2-13b-bnb-4bit\",\n",
        "    \"unsloth/codellama-34b-bnb-4bit\",\n",
        "    \"unsloth/tinyllama-bnb-4bit\",\n",
        "    \"unsloth/gemma-7b-bnb-4bit\",\n",
        "    \"unsloth/gemma-2b-bnb-4bit\",\n",
        "]\n",
        "\n",
        "model, tokenizer = FastLanguageModel.from_pretrained(\n",
        "    model_name = \"unsloth/mistral-7b-bnb-4bit\",\n",
        "    max_seq_length = max_seq_length,\n",
        "    dtype = dtype,\n",
        "    load_in_4bit = load_in_4bit,\n",
        "\n",
        ")"
      ]
    },
    {
      "cell_type": "markdown",
      "metadata": {
        "id": "SXd9bTZd1aaL"
      },
      "source": [
        "We now add LoRA adapters so we only need to update 1 to 10% of all parameters!"
      ]
    },
    {
      "cell_type": "code",
      "execution_count": null,
      "metadata": {
        "colab": {
          "base_uri": "https://localhost:8080/"
        },
        "id": "6bZsfBuZDeCL",
        "outputId": "7853d814-9505-4090-8c0c-8c45ab626714"
      },
      "outputs": [
        {
          "name": "stderr",
          "output_type": "stream",
          "text": [
            "Unsloth 2024.4 patched 32 layers with 32 QKV layers, 32 O layers and 32 MLP layers.\n"
          ]
        }
      ],
      "source": [
        "model = FastLanguageModel.get_peft_model(\n",
        "    model,\n",
        "    r = 16,\n",
        "    target_modules = [\"q_proj\", \"k_proj\", \"v_proj\", \"o_proj\",\n",
        "                      \"gate_proj\", \"up_proj\", \"down_proj\",],\n",
        "    lora_alpha = 16,\n",
        "    lora_dropout = 0,\n",
        "    bias = \"none\",\n",
        "\n",
        "    use_gradient_checkpointing = \"unsloth\",\n",
        "    random_state = 3407,\n",
        "    use_rslora = False,\n",
        "    loftq_config = None,\n",
        ")"
      ]
    },
    {
      "cell_type": "markdown",
      "metadata": {
        "id": "vITh0KVJ10qX"
      },
      "source": [
        "<a name=\"Data\"></a>\n",
        "### Data Prep\n"
      ]
    },
    {
      "cell_type": "code",
      "execution_count": null,
      "metadata": {
        "id": "LjY75GoYUCB8"
      },
      "outputs": [],
      "source": [
        "EOS_TOKEN = tokenizer.eos_token\n",
        "import pandas as pd\n",
        "from datasets import Dataset\n",
        "\n",
        "# Load the CSV file\n",
        "df = pd.read_csv('/content/mega_dataset3.csv', encoding='utf-8')\n",
        "#if the row has no 'topic' feature then make it an empty string\n",
        "df['topic'] = df['topic'].fillna('')\n",
        "\n",
        "# concat the features\n",
        "df['text'] = \"Topic: [\" + df['topic'] + \"] Subreddit: [\" + df['Subreddit'] + \"] Title: [\"+ df['title']+ \"] Body: [\" + df['body'] + \"]\"\n",
        "# Convert the 'text' column to string type\n",
        "df['text'] = df['text'].astype(str)\n",
        "# Create the dataset from the combined text\n",
        "dataset = Dataset.from_dict({'text': df['text'].tolist()})\n",
        "\n",
        "def formatting_func(example):\n",
        "    return example[\"text\"] + EOS_TOKEN\n"
      ]
    },
    {
      "cell_type": "markdown",
      "metadata": {
        "id": "idAEIeSQ3xdS"
      },
      "source": [
        "<a name=\"Train\"></a>\n",
        "### Train the model\n",
        "\n"
      ]
    },
    {
      "cell_type": "code",
      "execution_count": null,
      "metadata": {
        "colab": {
          "base_uri": "https://localhost:8080/",
          "height": 124,
          "referenced_widgets": [
            "48e55898b0e5438e8fb3fdf40fcfa877",
            "8fb2037ea86a436085f27e114dffef69",
            "dcda840a36a842e398000d15917c784e",
            "c7805a4dc1db4f2fa642cf2e05723ffb",
            "b28d6213ef8747a8a6aa3d8f3a785d04",
            "3af88b805bd441a2a02d90635a700d30",
            "869715565cb24209abf065d591ec0c54",
            "02a8ea80079b4d44b1fe410dda362c01",
            "624c6f9b28904728b920dff80b1dca73",
            "f05cd6cf0fd74c898d8bbd53132ae6cc",
            "55d72b53232049bf857012bd9bb6f750"
          ]
        },
        "id": "95_Nn-89DhsL",
        "outputId": "61d2e728-fb3e-46e5-c5ca-307d6ab03622"
      },
      "outputs": [
        {
          "data": {
            "application/vnd.jupyter.widget-view+json": {
              "model_id": "48e55898b0e5438e8fb3fdf40fcfa877",
              "version_major": 2,
              "version_minor": 0
            },
            "text/plain": [
              "Generating train split: 0 examples [00:00, ? examples/s]"
            ]
          },
          "metadata": {},
          "output_type": "display_data"
        },
        {
          "name": "stderr",
          "output_type": "stream",
          "text": [
            "max_steps is given, it will override any value given in num_train_epochs\n",
            "/usr/local/lib/python3.10/dist-packages/trl/trainer/sft_trainer.py:342: UserWarning: You passed `packing=True` to the SFTTrainer, and you are training your model with `max_steps` strategy. The dataset will be iterated until the `max_steps` are reached.\n",
            "  warnings.warn(\n"
          ]
        }
      ],
      "source": [
        "from trl import SFTTrainer\n",
        "from transformers import TrainingArguments\n",
        "\n",
        "trainer = SFTTrainer(\n",
        "    model = model,\n",
        "    train_dataset = dataset,\n",
        "    dataset_text_field = \"text\",\n",
        "    tokenizer = tokenizer,\n",
        "    max_seq_length = max_seq_length,\n",
        "    packing = True,\n",
        "    formatting_func = formatting_func,\n",
        "    args = TrainingArguments(\n",
        "        per_device_train_batch_size = 2,\n",
        "        gradient_accumulation_steps = 4,\n",
        "        warmup_ratio = 0.05,\n",
        "        max_grad_norm = 1.0,\n",
        "        num_train_epochs = 1,\n",
        "        gradient_checkpointing = True,\n",
        "        learning_rate = 2e-5,\n",
        "        fp16 = not torch.cuda.is_bf16_supported(),\n",
        "        bf16 = torch.cuda.is_bf16_supported(),\n",
        "        logging_steps = 1,\n",
        "        optim = \"adamw_8bit\",\n",
        "        weight_decay = 0.1,\n",
        "        lr_scheduler_type = \"linear\",\n",
        "        seed = 3407,\n",
        "        output_dir = \"outputs\",\n",
        "    ),\n",
        ")"
      ]
    },
    {
      "cell_type": "code",
      "execution_count": null,
      "metadata": {
        "colab": {
          "base_uri": "https://localhost:8080/",
          "height": 1000
        },
        "id": "yqxqAZ7KJ4oL",
        "outputId": "e5900b0b-8935-4f95-a683-6c86e3ae2928"
      },
      "outputs": [
        {
          "name": "stderr",
          "output_type": "stream",
          "text": [
            "==((====))==  Unsloth - 2x faster free finetuning | Num GPUs = 1\n",
            "   \\\\   /|    Num examples = 2,109 | Num Epochs = 1\n",
            "O^O/ \\_/ \\    Batch size per device = 2 | Gradient Accumulation steps = 4\n",
            "\\        /    Total batch size = 8 | Total steps = 60\n",
            " \"-____-\"     Number of trainable parameters = 41,943,040\n"
          ]
        },
        {
          "data": {
            "text/html": [
              "\n",
              "    <div>\n",
              "      \n",
              "      <progress value='60' max='60' style='width:300px; height:20px; vertical-align: middle;'></progress>\n",
              "      [60/60 45:05, Epoch 0/1]\n",
              "    </div>\n",
              "    <table border=\"1\" class=\"dataframe\">\n",
              "  <thead>\n",
              " <tr style=\"text-align: left;\">\n",
              "      <th>Step</th>\n",
              "      <th>Training Loss</th>\n",
              "    </tr>\n",
              "  </thead>\n",
              "  <tbody>\n",
              "    <tr>\n",
              "      <td>1</td>\n",
              "      <td>2.108800</td>\n",
              "    </tr>\n",
              "    <tr>\n",
              "      <td>2</td>\n",
              "      <td>2.100200</td>\n",
              "    </tr>\n",
              "    <tr>\n",
              "      <td>3</td>\n",
              "      <td>2.258700</td>\n",
              "    </tr>\n",
              "    <tr>\n",
              "      <td>4</td>\n",
              "      <td>2.188500</td>\n",
              "    </tr>\n",
              "    <tr>\n",
              "      <td>5</td>\n",
              "      <td>2.059400</td>\n",
              "    </tr>\n",
              "    <tr>\n",
              "      <td>6</td>\n",
              "      <td>2.190600</td>\n",
              "    </tr>\n",
              "    <tr>\n",
              "      <td>7</td>\n",
              "      <td>2.158200</td>\n",
              "    </tr>\n",
              "    <tr>\n",
              "      <td>8</td>\n",
              "      <td>2.224000</td>\n",
              "    </tr>\n",
              "    <tr>\n",
              "      <td>9</td>\n",
              "      <td>2.238000</td>\n",
              "    </tr>\n",
              "    <tr>\n",
              "      <td>10</td>\n",
              "      <td>1.997400</td>\n",
              "    </tr>\n",
              "    <tr>\n",
              "      <td>11</td>\n",
              "      <td>2.151600</td>\n",
              "    </tr>\n",
              "    <tr>\n",
              "      <td>12</td>\n",
              "      <td>2.137100</td>\n",
              "    </tr>\n",
              "    <tr>\n",
              "      <td>13</td>\n",
              "      <td>2.228100</td>\n",
              "    </tr>\n",
              "    <tr>\n",
              "      <td>14</td>\n",
              "      <td>2.156500</td>\n",
              "    </tr>\n",
              "    <tr>\n",
              "      <td>15</td>\n",
              "      <td>2.078900</td>\n",
              "    </tr>\n",
              "    <tr>\n",
              "      <td>16</td>\n",
              "      <td>2.072900</td>\n",
              "    </tr>\n",
              "    <tr>\n",
              "      <td>17</td>\n",
              "      <td>2.113400</td>\n",
              "    </tr>\n",
              "    <tr>\n",
              "      <td>18</td>\n",
              "      <td>2.122200</td>\n",
              "    </tr>\n",
              "    <tr>\n",
              "      <td>19</td>\n",
              "      <td>2.158300</td>\n",
              "    </tr>\n",
              "    <tr>\n",
              "      <td>20</td>\n",
              "      <td>2.100700</td>\n",
              "    </tr>\n",
              "    <tr>\n",
              "      <td>21</td>\n",
              "      <td>2.163900</td>\n",
              "    </tr>\n",
              "    <tr>\n",
              "      <td>22</td>\n",
              "      <td>2.071200</td>\n",
              "    </tr>\n",
              "    <tr>\n",
              "      <td>23</td>\n",
              "      <td>2.155300</td>\n",
              "    </tr>\n",
              "    <tr>\n",
              "      <td>24</td>\n",
              "      <td>1.922200</td>\n",
              "    </tr>\n",
              "    <tr>\n",
              "      <td>25</td>\n",
              "      <td>2.172200</td>\n",
              "    </tr>\n",
              "    <tr>\n",
              "      <td>26</td>\n",
              "      <td>2.165200</td>\n",
              "    </tr>\n",
              "    <tr>\n",
              "      <td>27</td>\n",
              "      <td>2.176600</td>\n",
              "    </tr>\n",
              "    <tr>\n",
              "      <td>28</td>\n",
              "      <td>2.032200</td>\n",
              "    </tr>\n",
              "    <tr>\n",
              "      <td>29</td>\n",
              "      <td>2.068400</td>\n",
              "    </tr>\n",
              "    <tr>\n",
              "      <td>30</td>\n",
              "      <td>2.117400</td>\n",
              "    </tr>\n",
              "    <tr>\n",
              "      <td>31</td>\n",
              "      <td>2.110700</td>\n",
              "    </tr>\n",
              "    <tr>\n",
              "      <td>32</td>\n",
              "      <td>2.157300</td>\n",
              "    </tr>\n",
              "    <tr>\n",
              "      <td>33</td>\n",
              "      <td>2.098600</td>\n",
              "    </tr>\n",
              "    <tr>\n",
              "      <td>34</td>\n",
              "      <td>2.096700</td>\n",
              "    </tr>\n",
              "    <tr>\n",
              "      <td>35</td>\n",
              "      <td>2.150800</td>\n",
              "    </tr>\n",
              "    <tr>\n",
              "      <td>36</td>\n",
              "      <td>2.094300</td>\n",
              "    </tr>\n",
              "    <tr>\n",
              "      <td>37</td>\n",
              "      <td>2.116700</td>\n",
              "    </tr>\n",
              "    <tr>\n",
              "      <td>38</td>\n",
              "      <td>2.029600</td>\n",
              "    </tr>\n",
              "    <tr>\n",
              "      <td>39</td>\n",
              "      <td>2.069600</td>\n",
              "    </tr>\n",
              "    <tr>\n",
              "      <td>40</td>\n",
              "      <td>2.066100</td>\n",
              "    </tr>\n",
              "    <tr>\n",
              "      <td>41</td>\n",
              "      <td>2.034400</td>\n",
              "    </tr>\n",
              "    <tr>\n",
              "      <td>42</td>\n",
              "      <td>2.136000</td>\n",
              "    </tr>\n",
              "    <tr>\n",
              "      <td>43</td>\n",
              "      <td>2.199500</td>\n",
              "    </tr>\n",
              "    <tr>\n",
              "      <td>44</td>\n",
              "      <td>2.103300</td>\n",
              "    </tr>\n",
              "    <tr>\n",
              "      <td>45</td>\n",
              "      <td>2.058900</td>\n",
              "    </tr>\n",
              "    <tr>\n",
              "      <td>46</td>\n",
              "      <td>2.141900</td>\n",
              "    </tr>\n",
              "    <tr>\n",
              "      <td>47</td>\n",
              "      <td>2.003700</td>\n",
              "    </tr>\n",
              "    <tr>\n",
              "      <td>48</td>\n",
              "      <td>2.117900</td>\n",
              "    </tr>\n",
              "    <tr>\n",
              "      <td>49</td>\n",
              "      <td>2.100700</td>\n",
              "    </tr>\n",
              "    <tr>\n",
              "      <td>50</td>\n",
              "      <td>2.147500</td>\n",
              "    </tr>\n",
              "    <tr>\n",
              "      <td>51</td>\n",
              "      <td>2.011400</td>\n",
              "    </tr>\n",
              "    <tr>\n",
              "      <td>52</td>\n",
              "      <td>2.044700</td>\n",
              "    </tr>\n",
              "    <tr>\n",
              "      <td>53</td>\n",
              "      <td>1.988000</td>\n",
              "    </tr>\n",
              "    <tr>\n",
              "      <td>54</td>\n",
              "      <td>2.073200</td>\n",
              "    </tr>\n",
              "    <tr>\n",
              "      <td>55</td>\n",
              "      <td>2.183400</td>\n",
              "    </tr>\n",
              "    <tr>\n",
              "      <td>56</td>\n",
              "      <td>2.083800</td>\n",
              "    </tr>\n",
              "    <tr>\n",
              "      <td>57</td>\n",
              "      <td>2.131500</td>\n",
              "    </tr>\n",
              "    <tr>\n",
              "      <td>58</td>\n",
              "      <td>2.191000</td>\n",
              "    </tr>\n",
              "    <tr>\n",
              "      <td>59</td>\n",
              "      <td>2.062100</td>\n",
              "    </tr>\n",
              "    <tr>\n",
              "      <td>60</td>\n",
              "      <td>1.976700</td>\n",
              "    </tr>\n",
              "  </tbody>\n",
              "</table><p>"
            ],
            "text/plain": [
              "<IPython.core.display.HTML object>"
            ]
          },
          "metadata": {},
          "output_type": "display_data"
        }
      ],
      "source": [
        "trainer_stats = trainer.train()"
      ]
    },
    {
      "cell_type": "markdown",
      "metadata": {
        "id": "BY1Nl9a_vUvq"
      },
      "source": [
        "<a name=\"EXPERIMENTATION\"></a>\n",
        "### **EXPERIMENTATION**\n",
        "\n"
      ]
    },
    {
      "cell_type": "code",
      "execution_count": null,
      "metadata": {
        "colab": {
          "base_uri": "https://localhost:8080/"
        },
        "id": "Epi3uVwvmFnQ",
        "outputId": "556df0c9-eb9f-467b-e4be-9ac89286e057"
      },
      "outputs": [
        {
          "name": "stderr",
          "output_type": "stream",
          "text": [
            "Setting `pad_token_id` to `eos_token_id`:2 for open-end generation.\n"
          ]
        },
        {
          "name": "stdout",
          "output_type": "stream",
          "text": [
            "<s> Topic: [botswana] Subreddit:[bipolar] Title: [I’m a 22 year old male with bipolar disorder and \n",
            "I’m looking for a friend] Body: [I’m a 22 year old male with bipolar disorder and I’m looking for a \n",
            "friend. I’m not looking for a romantic relationship, just a friend. I’m looking for someone who is \n",
            "understanding and supportive. I’m looking for someone who is willing to listen and be there for me. I’m looking \n",
            "for someone who is willing to help me through my tough times. I’m looking for someone who is willing \n",
            "to be there for me when I need them. I’m looking for someone who is willing to be there for me when \n",
            "I’m feeling down. I’m looking for someone who is willing to be there for me when I’m feeling lonely. \n",
            "I’m looking for someone who is willing to be there for me when I’m feeling lost. I’m looking for \n",
            "someone who is willing to be there for me when I’m feeling hopeless. I’m looking for someone who is \n",
            "willing to be there for me when I’m feeling like I’m not good enough. I’m looking for someone who is \n",
            "willing to be"
          ]
        }
      ],
      "source": [
        "from transformers import TextIteratorStreamer\n",
        "from threading import Thread\n",
        "text_streamer = TextIteratorStreamer(tokenizer)\n",
        "import textwrap\n",
        "max_print_width = 100\n",
        "\n",
        "inputs = tokenizer(\n",
        "[\n",
        "    \"Topic: [botswana] Subreddit: [bipolar]\"\n",
        "]*1, return_tensors = \"pt\").to(\"cuda\")\n",
        "\n",
        "generation_kwargs = dict(\n",
        "    inputs,\n",
        "    streamer = text_streamer,\n",
        "    max_new_tokens = 256,\n",
        "    use_cache = True,\n",
        ")\n",
        "thread = Thread(target = model.generate, kwargs = generation_kwargs)\n",
        "thread.start()\n",
        "\n",
        "\n",
        "\n",
        "length = 0\n",
        "for j, new_text in enumerate(text_streamer):\n",
        "    if j == 0:\n",
        "        wrapped_text = textwrap.wrap(new_text, width = max_print_width)\n",
        "        length = len(wrapped_text[-1])\n",
        "        wrapped_text = \"\\n\".join(wrapped_text)\n",
        "        print(wrapped_text, end = \"\")\n",
        "    else:\n",
        "        length += len(new_text)\n",
        "        if length >= max_print_width:\n",
        "            length = 0\n",
        "            print()\n",
        "        print(new_text, end = \"\")\n",
        "    pass\n",
        "pass"
      ]
    },
    {
      "cell_type": "code",
      "execution_count": null,
      "metadata": {
        "colab": {
          "base_uri": "https://localhost:8080/"
        },
        "id": "4DM0AM2-mTXq",
        "outputId": "02d3576e-7fe4-473e-e158-3c79edeaef5b"
      },
      "outputs": [
        {
          "name": "stderr",
          "output_type": "stream",
          "text": [
            "Setting `pad_token_id` to `eos_token_id`:2 for open-end generation.\n"
          ]
        },
        {
          "name": "stdout",
          "output_type": "stream",
          "text": [
            "<s> Topic: [paranoid] Subreddit:[bipolar]\n",
            "\n",
            "I'm a 23 year old male, and I've been diagnosed with \n",
            "bipolar disorder. I've been on medication for about 2 years now, and I've been doing pretty well. I've \n",
            "been in a relationship with my girlfriend for about 2 years now, and we've been living together for \n",
            "about a year.\n",
            "\n",
            "I've been feeling really paranoid lately, and I'm not sure why. I've been feeling like my \n",
            "girlfriend is cheating on me, and I'm not sure why. I've been feeling like she's been lying to me, and I'm \n",
            "not sure why. I've been feeling like she's been hiding something from me, and I'm not sure why.\n",
            "\n",
            "I've \n",
            "been feeling like she's been acting differently around me, and I'm not sure why. I've been feeling like \n",
            "she's been avoiding me, and I'm not sure why. I've been feeling like she's been ignoring me, and I'm not \n",
            "sure why.\n",
            "\n",
            "I've been feeling like she's been acting differently around me, and I'm not sure why."
          ]
        }
      ],
      "source": [
        "from transformers import TextIteratorStreamer\n",
        "from threading import Thread\n",
        "text_streamer = TextIteratorStreamer(tokenizer)\n",
        "import textwrap\n",
        "max_print_width = 100\n",
        "\n",
        "inputs = tokenizer(\n",
        "[\n",
        "    \"Topic: [paranoid] Subreddit: [bipolar]\"\n",
        "]*1, return_tensors = \"pt\").to(\"cuda\")\n",
        "\n",
        "generation_kwargs = dict(\n",
        "    inputs,\n",
        "    streamer = text_streamer,\n",
        "    max_new_tokens = 256,\n",
        "    use_cache = True,\n",
        ")\n",
        "thread = Thread(target = model.generate, kwargs = generation_kwargs)\n",
        "thread.start()\n",
        "\n",
        "\n",
        "\n",
        "length = 0\n",
        "for j, new_text in enumerate(text_streamer):\n",
        "    if j == 0:\n",
        "        wrapped_text = textwrap.wrap(new_text, width = max_print_width)\n",
        "        length = len(wrapped_text[-1])\n",
        "        wrapped_text = \"\\n\".join(wrapped_text)\n",
        "        print(wrapped_text, end = \"\")\n",
        "    else:\n",
        "        length += len(new_text)\n",
        "        if length >= max_print_width:\n",
        "            length = 0\n",
        "            print()\n",
        "        print(new_text, end = \"\")\n",
        "    pass\n",
        "pass"
      ]
    },
    {
      "cell_type": "code",
      "execution_count": null,
      "metadata": {
        "colab": {
          "base_uri": "https://localhost:8080/"
        },
        "id": "tzfhiYF7mdR9",
        "outputId": "df494008-1c97-45a2-a701-0882d94ddaad"
      },
      "outputs": [
        {
          "name": "stderr",
          "output_type": "stream",
          "text": [
            "Setting `pad_token_id` to `eos_token_id`:2 for open-end generation.\n"
          ]
        },
        {
          "name": "stdout",
          "output_type": "stream",
          "text": [
            "<s> Topic: [lebron] Subreddit:[bipolar] Title: [I’m a 20 year old male and I’m bipolar. I’m also a \n",
            "huge basketball fan and I’m a die hard lebron fan. I’m also a huge lebron fan. I’m also a huge lebron \n",
            "fan. I’m also a huge lebron fan. I’m also a huge lebron fan. I’m also a huge lebron fan. I’m also a \n",
            "huge lebron fan. I’m also a huge lebron fan. I’m also a huge lebron fan. I’m also a huge lebron fan. \n",
            "I’m also a huge lebron fan. I’m also a huge lebron fan. I’m also a huge lebron fan. I’m also a huge \n",
            "lebron fan. I’m also a huge lebron fan. I’m also a huge lebron fan. I’m also a huge lebron fan. I’m also \n",
            "a huge lebron fan. I’m also a huge lebron fan. I’m also a huge lebron fan. I’m also a huge"
          ]
        }
      ],
      "source": [
        "from transformers import TextIteratorStreamer\n",
        "from threading import Thread\n",
        "text_streamer = TextIteratorStreamer(tokenizer)\n",
        "import textwrap\n",
        "max_print_width = 100\n",
        "\n",
        "inputs = tokenizer(\n",
        "[\n",
        "    \"Topic: [lebron] Subreddit: [bipolar]\"\n",
        "]*1, return_tensors = \"pt\").to(\"cuda\")\n",
        "\n",
        "generation_kwargs = dict(\n",
        "    inputs,\n",
        "    streamer = text_streamer,\n",
        "    max_new_tokens = 256,\n",
        "    use_cache = True,\n",
        ")\n",
        "thread = Thread(target = model.generate, kwargs = generation_kwargs)\n",
        "thread.start()\n",
        "\n",
        "\n",
        "\n",
        "length = 0\n",
        "for j, new_text in enumerate(text_streamer):\n",
        "    if j == 0:\n",
        "        wrapped_text = textwrap.wrap(new_text, width = max_print_width)\n",
        "        length = len(wrapped_text[-1])\n",
        "        wrapped_text = \"\\n\".join(wrapped_text)\n",
        "        print(wrapped_text, end = \"\")\n",
        "    else:\n",
        "        length += len(new_text)\n",
        "        if length >= max_print_width:\n",
        "            length = 0\n",
        "            print()\n",
        "        print(new_text, end = \"\")\n",
        "    pass\n",
        "pass"
      ]
    },
    {
      "cell_type": "code",
      "execution_count": null,
      "metadata": {
        "colab": {
          "base_uri": "https://localhost:8080/"
        },
        "id": "ichqFvOMmoXO",
        "outputId": "af191a12-606f-4db5-9f60-6d9a82790977"
      },
      "outputs": [
        {
          "name": "stderr",
          "output_type": "stream",
          "text": [
            "Setting `pad_token_id` to `eos_token_id`:2 for open-end generation.\n"
          ]
        },
        {
          "name": "stdout",
          "output_type": "stream",
          "text": [
            "<s> Topic: [girlfriend] Subreddit:[bipolar] Title: help me\n",
            "Body:\n",
            "\n",
            "\n",
            "\n",
            "male in to help me with my \n",
            "girlfriend. She has bipolar disorderalar disorder and I'm not sure how to\n",
            "\n",
            "\n",
            "'m not sure how to help her. \n",
            "She'sipolar and I'm not sure how to help her. She's been having a hard time lately and I' not sure how to help \n",
            "her. She's been having a hard time lately and I'm not sure how to help her. She's been having a hard \n",
            "time lately and I'm not sure how to help her. She's been having a hard time lately and I'm not sure how \n",
            "to help her. She's been having a hard time lately and I'm not sure how to help her. She's been having \n",
            "a hard time lately and I'm not sure how to help her. She's been having a hard time lately and I'm \n",
            "not sure how to help her. She's been having a hard time lately and I'm not sure how to help her. She's \n",
            "been having a hard time lately and I'm not sure how to help her. She's been having a hard time lately \n",
            "and I"
          ]
        }
      ],
      "source": [
        "from transformers import TextIteratorStreamer\n",
        "from threading import Thread\n",
        "text_streamer = TextIteratorStreamer(tokenizer)\n",
        "import textwrap\n",
        "max_print_width = 100\n",
        "\n",
        "inputs = tokenizer(\n",
        "[\n",
        "    \"Topic: [girlfriend] Subreddit: [bipolar]\"\n",
        "]*1, return_tensors = \"pt\").to(\"cuda\")\n",
        "\n",
        "generation_kwargs = dict(\n",
        "    inputs,\n",
        "    streamer = text_streamer,\n",
        "    max_new_tokens = 256,\n",
        "    use_cache = True,\n",
        ")\n",
        "thread = Thread(target = model.generate, kwargs = generation_kwargs)\n",
        "thread.start()\n",
        "\n",
        "\n",
        "\n",
        "length = 0\n",
        "for j, new_text in enumerate(text_streamer):\n",
        "    if j == 0:\n",
        "        wrapped_text = textwrap.wrap(new_text, width = max_print_width)\n",
        "        length = len(wrapped_text[-1])\n",
        "        wrapped_text = \"\\n\".join(wrapped_text)\n",
        "        print(wrapped_text, end = \"\")\n",
        "    else:\n",
        "        length += len(new_text)\n",
        "        if length >= max_print_width:\n",
        "            length = 0\n",
        "            print()\n",
        "        print(new_text, end = \"\")\n",
        "    pass\n",
        "pass"
      ]
    },
    {
      "cell_type": "markdown",
      "metadata": {
        "id": "ekOmTR1hSNcr"
      },
      "source": [
        "<a name=\"Inference\"></a>\n",
        "### Inference\n",
        "Let's run the model! You can change the instruction and input - leave the output blank!"
      ]
    },
    {
      "cell_type": "code",
      "execution_count": null,
      "metadata": {
        "colab": {
          "base_uri": "https://localhost:8080/"
        },
        "id": "kR3gIAX-SM2q",
        "outputId": "c62e7dcd-7ed7-4b0d-afaf-eb7a7daf073c"
      },
      "outputs": [
        {
          "name": "stderr",
          "output_type": "stream",
          "text": [
            "Setting `pad_token_id` to `eos_token_id`:2 for open-end generation.\n"
          ]
        },
        {
          "name": "stdout",
          "output_type": "stream",
          "text": [
            "<s> Topic: [botswana] Subreddit:[bipolar] Title: [I'm a 20 year old male with bipolar disorder. \n",
            "I'm currently in a manic episode and I'm not sure what to do. I'm scared.] Body: [I'm a 20 year old \n",
            "male with bipolar disorder. I'm currently in a manic episode and I'm not sure what to do. I'm scared.\n",
            "\n",
            "\n",
            "I've been diagnosed with bipolar disorder for about 2 years now. I've been on medication for about a \n",
            "year and a half. I've been doing pretty well for the most part. I've had a few episodes of depression \n",
            "and a few episodes of mania, but nothing too bad.\n",
            "\n",
            "But now I'm in a manic episode and I'm not sure \n",
            "what to do. I'm scared.\n",
            "\n",
            "I'm not sure if I should go to the hospital or not. I'm not sure if I should \n",
            "tell my parents or not. I'm not sure if I should tell my friends or not. I'm not sure if I should tell \n",
            "my girlfriend or not. I'm not sure if I should tell anyone or not.\n",
            "\n",
            "I'"
          ]
        }
      ],
      "source": [
        "from transformers import TextIteratorStreamer\n",
        "from threading import Thread\n",
        "text_streamer = TextIteratorStreamer(tokenizer)\n",
        "import textwrap\n",
        "max_print_width = 100\n",
        "\n",
        "inputs = tokenizer(\n",
        "[\n",
        "    \"Topic: [botswana] Subreddit: [bipolar]\"\n",
        "]*1, return_tensors = \"pt\").to(\"cuda\")\n",
        "\n",
        "generation_kwargs = dict(\n",
        "    inputs,\n",
        "    streamer = text_streamer,\n",
        "    max_new_tokens = 256,\n",
        "    use_cache = True,\n",
        ")\n",
        "thread = Thread(target = model.generate, kwargs = generation_kwargs)\n",
        "thread.start()\n",
        "\n",
        "\n",
        "\n",
        "length = 0\n",
        "for j, new_text in enumerate(text_streamer):\n",
        "    if j == 0:\n",
        "        wrapped_text = textwrap.wrap(new_text, width = max_print_width)\n",
        "        length = len(wrapped_text[-1])\n",
        "        wrapped_text = \"\\n\".join(wrapped_text)\n",
        "        print(wrapped_text, end = \"\")\n",
        "    else:\n",
        "        length += len(new_text)\n",
        "        if length >= max_print_width:\n",
        "            length = 0\n",
        "            print()\n",
        "        print(new_text, end = \"\")\n",
        "    pass\n",
        "pass"
      ]
    },
    {
      "cell_type": "code",
      "execution_count": null,
      "metadata": {
        "colab": {
          "base_uri": "https://localhost:8080/"
        },
        "id": "wtZeYQIpteEh",
        "outputId": "706db7e1-0485-4c0f-d023-c8c3c0f3772e"
      },
      "outputs": [
        {
          "name": "stderr",
          "output_type": "stream",
          "text": [
            "Setting `pad_token_id` to `eos_token_id`:2 for open-end generation.\n"
          ]
        },
        {
          "name": "stdout",
          "output_type": "stream",
          "text": [
            "<s> Topic: [crossy road] Subreddit:[bipolar] Title: [I’m so tired of being bipolar] Body: [I’m so \n",
            "tired of being bipolar. I’m tired of the stigma, the discrimination, the lack of understanding, the lack \n",
            "of support, the lack of resources, the lack of treatment options, the lack of research, the lack of \n",
            "funding, the lack of awareness, the lack of education, the lack of compassion, the lack of empathy, the \n",
            "lack of understanding, the lack of support, the lack of resources, the lack of treatment options, the \n",
            "lack of research, the lack of funding, the lack of awareness, the lack of education, the lack of \n",
            "compassion, the lack of empathy, the lack of understanding, the lack of support, the lack of resources, the \n",
            "lack of treatment options, the lack of research, the lack of funding, the lack of awareness, the lack \n",
            "of education, the lack of compassion, the lack of empathy, the lack of understanding, the lack of \n",
            "support, the lack of resources, the lack of treatment options, the lack of research, the lack of funding, \n",
            "the lack of awareness, the lack of education, the lack of compassion, the lack of empathy, the lack of \n",
            "understanding, the lack of"
          ]
        }
      ],
      "source": [
        "from transformers import TextIteratorStreamer\n",
        "from threading import Thread\n",
        "text_streamer = TextIteratorStreamer(tokenizer)\n",
        "import textwrap\n",
        "max_print_width = 100\n",
        "\n",
        "inputs = tokenizer(\n",
        "[\n",
        "    \"Topic: [crossy road] Subreddit: [bipolar]\"\n",
        "]*1, return_tensors = \"pt\").to(\"cuda\")\n",
        "\n",
        "generation_kwargs = dict(\n",
        "    inputs,\n",
        "    streamer = text_streamer,\n",
        "    max_new_tokens = 256,\n",
        "    use_cache = True,\n",
        ")\n",
        "thread = Thread(target = model.generate, kwargs = generation_kwargs)\n",
        "thread.start()\n",
        "\n",
        "\n",
        "\n",
        "length = 0\n",
        "for j, new_text in enumerate(text_streamer):\n",
        "    if j == 0:\n",
        "        wrapped_text = textwrap.wrap(new_text, width = max_print_width)\n",
        "        length = len(wrapped_text[-1])\n",
        "        wrapped_text = \"\\n\".join(wrapped_text)\n",
        "        print(wrapped_text, end = \"\")\n",
        "    else:\n",
        "        length += len(new_text)\n",
        "        if length >= max_print_width:\n",
        "            length = 0\n",
        "            print()\n",
        "        print(new_text, end = \"\")\n",
        "    pass\n",
        "pass"
      ]
    },
    {
      "cell_type": "code",
      "execution_count": null,
      "metadata": {
        "colab": {
          "base_uri": "https://localhost:8080/"
        },
        "id": "3oSNcUWenLV6",
        "outputId": "bbb17a7f-e773-48b0-d79b-fdbfa44879ac"
      },
      "outputs": [
        {
          "name": "stderr",
          "output_type": "stream",
          "text": [
            "Setting `pad_token_id` to `eos_token_id`:2 for open-end generation.\n"
          ]
        },
        {
          "name": "stdout",
          "output_type": "stream",
          "text": [
            "<s> Topic: [chatgpt] Subreddit:[bipolar] Title me lot, but I’m still scared.\n",
            "\n",
            "I’m a 20 year old \n",
            "male, and I’ve been diagnosed with bipolar disorder for about 2 years now. I’ve been on medication for \n",
            "about 2  my whole life, and I’ve been on medication off for about 2 years now. I’m still scared of the \n",
            "medication, but because I’m still scared of the medication, I’m still scared of the medication. I’m still \n",
            "scared of the medication, but I’m still scared of the medication. I’m still scared of the medication, but \n",
            "I’m still scared of the medication. I’m still scared of the medication, but I’m still scared of the \n",
            "medication. I’m still scared of the medication, but I’m still scared of the medication. I’m still scared of \n",
            "the medication, but I’m still scared of the medication. I’m still scared of the medication, but I’m \n",
            "still scared of the medication. I’m still scared of the medication, but I’m still scared of the \n",
            "medication. I’m still scared of the medication, but I’m still scared of the medication. I’m"
          ]
        }
      ],
      "source": [
        "from transformers import TextIteratorStreamer\n",
        "from threading import Thread\n",
        "text_streamer = TextIteratorStreamer(tokenizer)\n",
        "import textwrap\n",
        "max_print_width = 100\n",
        "\n",
        "inputs = tokenizer(\n",
        "[\n",
        "    \"Topic: [chatgpt] Subreddit: [bipolar]\"\n",
        "]*1, return_tensors = \"pt\").to(\"cuda\")\n",
        "\n",
        "generation_kwargs = dict(\n",
        "    inputs,\n",
        "    streamer = text_streamer,\n",
        "    max_new_tokens = 256,\n",
        "    use_cache = True,\n",
        ")\n",
        "thread = Thread(target = model.generate, kwargs = generation_kwargs)\n",
        "thread.start()\n",
        "\n",
        "\n",
        "\n",
        "length = 0\n",
        "for j, new_text in enumerate(text_streamer):\n",
        "    if j == 0:\n",
        "        wrapped_text = textwrap.wrap(new_text, width = max_print_width)\n",
        "        length = len(wrapped_text[-1])\n",
        "        wrapped_text = \"\\n\".join(wrapped_text)\n",
        "        print(wrapped_text, end = \"\")\n",
        "    else:\n",
        "        length += len(new_text)\n",
        "        if length >= max_print_width:\n",
        "            length = 0\n",
        "            print()\n",
        "        print(new_text, end = \"\")\n",
        "    pass\n",
        "pass"
      ]
    },
    {
      "cell_type": "code",
      "execution_count": null,
      "metadata": {
        "colab": {
          "base_uri": "https://localhost:8080/",
          "height": 425
        },
        "id": "9ZfT5iHct4Wk",
        "outputId": "80efa1b4-25dd-4ea0-ba6f-eb2eb3807917"
      },
      "outputs": [
        {
          "name": "stderr",
          "output_type": "stream",
          "text": [
            "Setting `pad_token_id` to `eos_token_id`:2 for open-end generation.\n"
          ]
        },
        {
          "name": "stdout",
          "output_type": "stream",
          "text": [
            "<s> Topic: [botswana] Subreddit:[cmv] Title: [CMV] I think that the Botswana government is right \n",
            "to ban the sale of alcohol to foreigners. Body: [cmv] I think "
          ]
        },
        {
          "ename": "KeyboardInterrupt",
          "evalue": "",
          "output_type": "error",
          "traceback": [
            "\u001b[0;31m---------------------------------------------------------------------------\u001b[0m",
            "\u001b[0;31mKeyboardInterrupt\u001b[0m                         Traceback (most recent call last)",
            "\u001b[0;32m<ipython-input-17-837678143373>\u001b[0m in \u001b[0;36m<cell line: 24>\u001b[0;34m()\u001b[0m\n\u001b[1;32m     22\u001b[0m \u001b[0;34m\u001b[0m\u001b[0m\n\u001b[1;32m     23\u001b[0m \u001b[0mlength\u001b[0m \u001b[0;34m=\u001b[0m \u001b[0;36m0\u001b[0m\u001b[0;34m\u001b[0m\u001b[0;34m\u001b[0m\u001b[0m\n\u001b[0;32m---> 24\u001b[0;31m \u001b[0;32mfor\u001b[0m \u001b[0mj\u001b[0m\u001b[0;34m,\u001b[0m \u001b[0mnew_text\u001b[0m \u001b[0;32min\u001b[0m \u001b[0menumerate\u001b[0m\u001b[0;34m(\u001b[0m\u001b[0mtext_streamer\u001b[0m\u001b[0;34m)\u001b[0m\u001b[0;34m:\u001b[0m\u001b[0;34m\u001b[0m\u001b[0;34m\u001b[0m\u001b[0m\n\u001b[0m\u001b[1;32m     25\u001b[0m     \u001b[0;32mif\u001b[0m \u001b[0mj\u001b[0m \u001b[0;34m==\u001b[0m \u001b[0;36m0\u001b[0m\u001b[0;34m:\u001b[0m\u001b[0;34m\u001b[0m\u001b[0;34m\u001b[0m\u001b[0m\n\u001b[1;32m     26\u001b[0m         \u001b[0mwrapped_text\u001b[0m \u001b[0;34m=\u001b[0m \u001b[0mtextwrap\u001b[0m\u001b[0;34m.\u001b[0m\u001b[0mwrap\u001b[0m\u001b[0;34m(\u001b[0m\u001b[0mnew_text\u001b[0m\u001b[0;34m,\u001b[0m \u001b[0mwidth\u001b[0m \u001b[0;34m=\u001b[0m \u001b[0mmax_print_width\u001b[0m\u001b[0;34m)\u001b[0m\u001b[0;34m\u001b[0m\u001b[0;34m\u001b[0m\u001b[0m\n",
            "\u001b[0;32m/usr/local/lib/python3.10/dist-packages/transformers/generation/streamers.py\u001b[0m in \u001b[0;36m__next__\u001b[0;34m(self)\u001b[0m\n\u001b[1;32m    221\u001b[0m \u001b[0;34m\u001b[0m\u001b[0m\n\u001b[1;32m    222\u001b[0m     \u001b[0;32mdef\u001b[0m \u001b[0m__next__\u001b[0m\u001b[0;34m(\u001b[0m\u001b[0mself\u001b[0m\u001b[0;34m)\u001b[0m\u001b[0;34m:\u001b[0m\u001b[0;34m\u001b[0m\u001b[0;34m\u001b[0m\u001b[0m\n\u001b[0;32m--> 223\u001b[0;31m         \u001b[0mvalue\u001b[0m \u001b[0;34m=\u001b[0m \u001b[0mself\u001b[0m\u001b[0;34m.\u001b[0m\u001b[0mtext_queue\u001b[0m\u001b[0;34m.\u001b[0m\u001b[0mget\u001b[0m\u001b[0;34m(\u001b[0m\u001b[0mtimeout\u001b[0m\u001b[0;34m=\u001b[0m\u001b[0mself\u001b[0m\u001b[0;34m.\u001b[0m\u001b[0mtimeout\u001b[0m\u001b[0;34m)\u001b[0m\u001b[0;34m\u001b[0m\u001b[0;34m\u001b[0m\u001b[0m\n\u001b[0m\u001b[1;32m    224\u001b[0m         \u001b[0;32mif\u001b[0m \u001b[0mvalue\u001b[0m \u001b[0;34m==\u001b[0m \u001b[0mself\u001b[0m\u001b[0;34m.\u001b[0m\u001b[0mstop_signal\u001b[0m\u001b[0;34m:\u001b[0m\u001b[0;34m\u001b[0m\u001b[0;34m\u001b[0m\u001b[0m\n\u001b[1;32m    225\u001b[0m             \u001b[0;32mraise\u001b[0m \u001b[0mStopIteration\u001b[0m\u001b[0;34m(\u001b[0m\u001b[0;34m)\u001b[0m\u001b[0;34m\u001b[0m\u001b[0;34m\u001b[0m\u001b[0m\n",
            "\u001b[0;32m/usr/lib/python3.10/queue.py\u001b[0m in \u001b[0;36mget\u001b[0;34m(self, block, timeout)\u001b[0m\n\u001b[1;32m    169\u001b[0m             \u001b[0;32melif\u001b[0m \u001b[0mtimeout\u001b[0m \u001b[0;32mis\u001b[0m \u001b[0;32mNone\u001b[0m\u001b[0;34m:\u001b[0m\u001b[0;34m\u001b[0m\u001b[0;34m\u001b[0m\u001b[0m\n\u001b[1;32m    170\u001b[0m                 \u001b[0;32mwhile\u001b[0m \u001b[0;32mnot\u001b[0m \u001b[0mself\u001b[0m\u001b[0;34m.\u001b[0m\u001b[0m_qsize\u001b[0m\u001b[0;34m(\u001b[0m\u001b[0;34m)\u001b[0m\u001b[0;34m:\u001b[0m\u001b[0;34m\u001b[0m\u001b[0;34m\u001b[0m\u001b[0m\n\u001b[0;32m--> 171\u001b[0;31m                     \u001b[0mself\u001b[0m\u001b[0;34m.\u001b[0m\u001b[0mnot_empty\u001b[0m\u001b[0;34m.\u001b[0m\u001b[0mwait\u001b[0m\u001b[0;34m(\u001b[0m\u001b[0;34m)\u001b[0m\u001b[0;34m\u001b[0m\u001b[0;34m\u001b[0m\u001b[0m\n\u001b[0m\u001b[1;32m    172\u001b[0m             \u001b[0;32melif\u001b[0m \u001b[0mtimeout\u001b[0m \u001b[0;34m<\u001b[0m \u001b[0;36m0\u001b[0m\u001b[0;34m:\u001b[0m\u001b[0;34m\u001b[0m\u001b[0;34m\u001b[0m\u001b[0m\n\u001b[1;32m    173\u001b[0m                 \u001b[0;32mraise\u001b[0m \u001b[0mValueError\u001b[0m\u001b[0;34m(\u001b[0m\u001b[0;34m\"'timeout' must be a non-negative number\"\u001b[0m\u001b[0;34m)\u001b[0m\u001b[0;34m\u001b[0m\u001b[0;34m\u001b[0m\u001b[0m\n",
            "\u001b[0;32m/usr/lib/python3.10/threading.py\u001b[0m in \u001b[0;36mwait\u001b[0;34m(self, timeout)\u001b[0m\n\u001b[1;32m    318\u001b[0m         \u001b[0;32mtry\u001b[0m\u001b[0;34m:\u001b[0m    \u001b[0;31m# restore state no matter what (e.g., KeyboardInterrupt)\u001b[0m\u001b[0;34m\u001b[0m\u001b[0;34m\u001b[0m\u001b[0m\n\u001b[1;32m    319\u001b[0m             \u001b[0;32mif\u001b[0m \u001b[0mtimeout\u001b[0m \u001b[0;32mis\u001b[0m \u001b[0;32mNone\u001b[0m\u001b[0;34m:\u001b[0m\u001b[0;34m\u001b[0m\u001b[0;34m\u001b[0m\u001b[0m\n\u001b[0;32m--> 320\u001b[0;31m                 \u001b[0mwaiter\u001b[0m\u001b[0;34m.\u001b[0m\u001b[0macquire\u001b[0m\u001b[0;34m(\u001b[0m\u001b[0;34m)\u001b[0m\u001b[0;34m\u001b[0m\u001b[0;34m\u001b[0m\u001b[0m\n\u001b[0m\u001b[1;32m    321\u001b[0m                 \u001b[0mgotit\u001b[0m \u001b[0;34m=\u001b[0m \u001b[0;32mTrue\u001b[0m\u001b[0;34m\u001b[0m\u001b[0;34m\u001b[0m\u001b[0m\n\u001b[1;32m    322\u001b[0m             \u001b[0;32melse\u001b[0m\u001b[0;34m:\u001b[0m\u001b[0;34m\u001b[0m\u001b[0;34m\u001b[0m\u001b[0m\n",
            "\u001b[0;31mKeyboardInterrupt\u001b[0m: "
          ]
        }
      ],
      "source": [
        "from transformers import TextIteratorStreamer\n",
        "from threading import Thread\n",
        "text_streamer = TextIteratorStreamer(tokenizer)\n",
        "import textwrap\n",
        "max_print_width = 100\n",
        "\n",
        "inputs = tokenizer(\n",
        "[\n",
        "    \"Topic: [botswana] Subreddit: [cmv]\"\n",
        "]*1, return_tensors = \"pt\").to(\"cuda\")\n",
        "\n",
        "generation_kwargs = dict(\n",
        "    inputs,\n",
        "    streamer = text_streamer,\n",
        "    max_new_tokens = 256,\n",
        "    use_cache = True,\n",
        ")\n",
        "thread = Thread(target = model.generate, kwargs = generation_kwargs)\n",
        "thread.start()\n",
        "\n",
        "\n",
        "\n",
        "length = 0\n",
        "for j, new_text in enumerate(text_streamer):\n",
        "    if j == 0:\n",
        "        wrapped_text = textwrap.wrap(new_text, width = max_print_width)\n",
        "        length = len(wrapped_text[-1])\n",
        "        wrapped_text = \"\\n\".join(wrapped_text)\n",
        "        print(wrapped_text, end = \"\")\n",
        "    else:\n",
        "        length += len(new_text)\n",
        "        if length >= max_print_width:\n",
        "            length = 0\n",
        "            print()\n",
        "        print(new_text, end = \"\")\n",
        "    pass\n",
        "pass"
      ]
    },
    {
      "cell_type": "code",
      "execution_count": null,
      "metadata": {
        "colab": {
          "base_uri": "https://localhost:8080/",
          "height": 497
        },
        "id": "s_wRYifIuA8T",
        "outputId": "b431474e-40d6-432e-8af9-ef36d8517f99"
      },
      "outputs": [
        {
          "name": "stderr",
          "output_type": "stream",
          "text": [
            "Setting `pad_token_id` to `eos_token_id`:2 for open-end generation.\n"
          ]
        },
        {
          "name": "stdout",
          "output_type": "stream",
          "text": [
            "<s> Topic: [crossy road] Subreddit:[cmv] Title: [CMV] I think the game Crossy Road is a ripoff of \n",
            "Flappy Bird. Body: [cmv] I think the game Crossy Road is a ripoff of Flappy Bird. I think the game Crossy \n",
            "Road is a ripoff of Flappy Bird. I think the game Crossy Road is a ripoff of Flappy Bird. I think the \n",
            "game Crossy Road is a ripoff of Flappy Bird. I think the game Crossy Road is a ripoff of Flappy Bird. I \n",
            "think the game Crossy Road is a ripoff of Flappy Bird. I think the game Crossy Road is a ripoff of \n",
            "Flappy Bird. I think the game Crossy Road is a ripoff of Flappy Bird. I think "
          ]
        },
        {
          "ename": "KeyboardInterrupt",
          "evalue": "",
          "output_type": "error",
          "traceback": [
            "\u001b[0;31m---------------------------------------------------------------------------\u001b[0m",
            "\u001b[0;31mKeyboardInterrupt\u001b[0m                         Traceback (most recent call last)",
            "\u001b[0;32m<ipython-input-18-c9a67ac40a7e>\u001b[0m in \u001b[0;36m<cell line: 24>\u001b[0;34m()\u001b[0m\n\u001b[1;32m     22\u001b[0m \u001b[0;34m\u001b[0m\u001b[0m\n\u001b[1;32m     23\u001b[0m \u001b[0mlength\u001b[0m \u001b[0;34m=\u001b[0m \u001b[0;36m0\u001b[0m\u001b[0;34m\u001b[0m\u001b[0;34m\u001b[0m\u001b[0m\n\u001b[0;32m---> 24\u001b[0;31m \u001b[0;32mfor\u001b[0m \u001b[0mj\u001b[0m\u001b[0;34m,\u001b[0m \u001b[0mnew_text\u001b[0m \u001b[0;32min\u001b[0m \u001b[0menumerate\u001b[0m\u001b[0;34m(\u001b[0m\u001b[0mtext_streamer\u001b[0m\u001b[0;34m)\u001b[0m\u001b[0;34m:\u001b[0m\u001b[0;34m\u001b[0m\u001b[0;34m\u001b[0m\u001b[0m\n\u001b[0m\u001b[1;32m     25\u001b[0m     \u001b[0;32mif\u001b[0m \u001b[0mj\u001b[0m \u001b[0;34m==\u001b[0m \u001b[0;36m0\u001b[0m\u001b[0;34m:\u001b[0m\u001b[0;34m\u001b[0m\u001b[0;34m\u001b[0m\u001b[0m\n\u001b[1;32m     26\u001b[0m         \u001b[0mwrapped_text\u001b[0m \u001b[0;34m=\u001b[0m \u001b[0mtextwrap\u001b[0m\u001b[0;34m.\u001b[0m\u001b[0mwrap\u001b[0m\u001b[0;34m(\u001b[0m\u001b[0mnew_text\u001b[0m\u001b[0;34m,\u001b[0m \u001b[0mwidth\u001b[0m \u001b[0;34m=\u001b[0m \u001b[0mmax_print_width\u001b[0m\u001b[0;34m)\u001b[0m\u001b[0;34m\u001b[0m\u001b[0;34m\u001b[0m\u001b[0m\n",
            "\u001b[0;32m/usr/local/lib/python3.10/dist-packages/transformers/generation/streamers.py\u001b[0m in \u001b[0;36m__next__\u001b[0;34m(self)\u001b[0m\n\u001b[1;32m    221\u001b[0m \u001b[0;34m\u001b[0m\u001b[0m\n\u001b[1;32m    222\u001b[0m     \u001b[0;32mdef\u001b[0m \u001b[0m__next__\u001b[0m\u001b[0;34m(\u001b[0m\u001b[0mself\u001b[0m\u001b[0;34m)\u001b[0m\u001b[0;34m:\u001b[0m\u001b[0;34m\u001b[0m\u001b[0;34m\u001b[0m\u001b[0m\n\u001b[0;32m--> 223\u001b[0;31m         \u001b[0mvalue\u001b[0m \u001b[0;34m=\u001b[0m \u001b[0mself\u001b[0m\u001b[0;34m.\u001b[0m\u001b[0mtext_queue\u001b[0m\u001b[0;34m.\u001b[0m\u001b[0mget\u001b[0m\u001b[0;34m(\u001b[0m\u001b[0mtimeout\u001b[0m\u001b[0;34m=\u001b[0m\u001b[0mself\u001b[0m\u001b[0;34m.\u001b[0m\u001b[0mtimeout\u001b[0m\u001b[0;34m)\u001b[0m\u001b[0;34m\u001b[0m\u001b[0;34m\u001b[0m\u001b[0m\n\u001b[0m\u001b[1;32m    224\u001b[0m         \u001b[0;32mif\u001b[0m \u001b[0mvalue\u001b[0m \u001b[0;34m==\u001b[0m \u001b[0mself\u001b[0m\u001b[0;34m.\u001b[0m\u001b[0mstop_signal\u001b[0m\u001b[0;34m:\u001b[0m\u001b[0;34m\u001b[0m\u001b[0;34m\u001b[0m\u001b[0m\n\u001b[1;32m    225\u001b[0m             \u001b[0;32mraise\u001b[0m \u001b[0mStopIteration\u001b[0m\u001b[0;34m(\u001b[0m\u001b[0;34m)\u001b[0m\u001b[0;34m\u001b[0m\u001b[0;34m\u001b[0m\u001b[0m\n",
            "\u001b[0;32m/usr/lib/python3.10/queue.py\u001b[0m in \u001b[0;36mget\u001b[0;34m(self, block, timeout)\u001b[0m\n\u001b[1;32m    169\u001b[0m             \u001b[0;32melif\u001b[0m \u001b[0mtimeout\u001b[0m \u001b[0;32mis\u001b[0m \u001b[0;32mNone\u001b[0m\u001b[0;34m:\u001b[0m\u001b[0;34m\u001b[0m\u001b[0;34m\u001b[0m\u001b[0m\n\u001b[1;32m    170\u001b[0m                 \u001b[0;32mwhile\u001b[0m \u001b[0;32mnot\u001b[0m \u001b[0mself\u001b[0m\u001b[0;34m.\u001b[0m\u001b[0m_qsize\u001b[0m\u001b[0;34m(\u001b[0m\u001b[0;34m)\u001b[0m\u001b[0;34m:\u001b[0m\u001b[0;34m\u001b[0m\u001b[0;34m\u001b[0m\u001b[0m\n\u001b[0;32m--> 171\u001b[0;31m                     \u001b[0mself\u001b[0m\u001b[0;34m.\u001b[0m\u001b[0mnot_empty\u001b[0m\u001b[0;34m.\u001b[0m\u001b[0mwait\u001b[0m\u001b[0;34m(\u001b[0m\u001b[0;34m)\u001b[0m\u001b[0;34m\u001b[0m\u001b[0;34m\u001b[0m\u001b[0m\n\u001b[0m\u001b[1;32m    172\u001b[0m             \u001b[0;32melif\u001b[0m \u001b[0mtimeout\u001b[0m \u001b[0;34m<\u001b[0m \u001b[0;36m0\u001b[0m\u001b[0;34m:\u001b[0m\u001b[0;34m\u001b[0m\u001b[0;34m\u001b[0m\u001b[0m\n\u001b[1;32m    173\u001b[0m                 \u001b[0;32mraise\u001b[0m \u001b[0mValueError\u001b[0m\u001b[0;34m(\u001b[0m\u001b[0;34m\"'timeout' must be a non-negative number\"\u001b[0m\u001b[0;34m)\u001b[0m\u001b[0;34m\u001b[0m\u001b[0;34m\u001b[0m\u001b[0m\n",
            "\u001b[0;32m/usr/lib/python3.10/threading.py\u001b[0m in \u001b[0;36mwait\u001b[0;34m(self, timeout)\u001b[0m\n\u001b[1;32m    318\u001b[0m         \u001b[0;32mtry\u001b[0m\u001b[0;34m:\u001b[0m    \u001b[0;31m# restore state no matter what (e.g., KeyboardInterrupt)\u001b[0m\u001b[0;34m\u001b[0m\u001b[0;34m\u001b[0m\u001b[0m\n\u001b[1;32m    319\u001b[0m             \u001b[0;32mif\u001b[0m \u001b[0mtimeout\u001b[0m \u001b[0;32mis\u001b[0m \u001b[0;32mNone\u001b[0m\u001b[0;34m:\u001b[0m\u001b[0;34m\u001b[0m\u001b[0;34m\u001b[0m\u001b[0m\n\u001b[0;32m--> 320\u001b[0;31m                 \u001b[0mwaiter\u001b[0m\u001b[0;34m.\u001b[0m\u001b[0macquire\u001b[0m\u001b[0;34m(\u001b[0m\u001b[0;34m)\u001b[0m\u001b[0;34m\u001b[0m\u001b[0;34m\u001b[0m\u001b[0m\n\u001b[0m\u001b[1;32m    321\u001b[0m                 \u001b[0mgotit\u001b[0m \u001b[0;34m=\u001b[0m \u001b[0;32mTrue\u001b[0m\u001b[0;34m\u001b[0m\u001b[0;34m\u001b[0m\u001b[0m\n\u001b[1;32m    322\u001b[0m             \u001b[0;32melse\u001b[0m\u001b[0;34m:\u001b[0m\u001b[0;34m\u001b[0m\u001b[0;34m\u001b[0m\u001b[0m\n",
            "\u001b[0;31mKeyboardInterrupt\u001b[0m: "
          ]
        }
      ],
      "source": [
        "from transformers import TextIteratorStreamer\n",
        "from threading import Thread\n",
        "text_streamer = TextIteratorStreamer(tokenizer)\n",
        "import textwrap\n",
        "max_print_width = 100\n",
        "\n",
        "inputs = tokenizer(\n",
        "[\n",
        "    \"Topic: [crossy road] Subreddit: [cmv]\"\n",
        "]*1, return_tensors = \"pt\").to(\"cuda\")\n",
        "\n",
        "generation_kwargs = dict(\n",
        "    inputs,\n",
        "    streamer = text_streamer,\n",
        "    max_new_tokens = 256,\n",
        "    use_cache = True,\n",
        ")\n",
        "thread = Thread(target = model.generate, kwargs = generation_kwargs)\n",
        "thread.start()\n",
        "\n",
        "\n",
        "\n",
        "length = 0\n",
        "for j, new_text in enumerate(text_streamer):\n",
        "    if j == 0:\n",
        "        wrapped_text = textwrap.wrap(new_text, width = max_print_width)\n",
        "        length = len(wrapped_text[-1])\n",
        "        wrapped_text = \"\\n\".join(wrapped_text)\n",
        "        print(wrapped_text, end = \"\")\n",
        "    else:\n",
        "        length += len(new_text)\n",
        "        if length >= max_print_width:\n",
        "            length = 0\n",
        "            print()\n",
        "        print(new_text, end = \"\")\n",
        "    pass\n",
        "pass"
      ]
    },
    {
      "cell_type": "code",
      "execution_count": null,
      "metadata": {
        "colab": {
          "base_uri": "https://localhost:8080/"
        },
        "id": "DqTT7q-2v9A8",
        "outputId": "f3b26284-ef87-498b-d542-f58952ec4bb0"
      },
      "outputs": [
        {
          "name": "stderr",
          "output_type": "stream",
          "text": [
            "Setting `pad_token_id` to `eos_token_id`:2 for open-end generation.\n"
          ]
        },
        {
          "name": "stdout",
          "output_type": "stream",
          "text": [
            "<s> Topic: [israel] Subreddit:[bipolar] Title: [I’m a 22 year old Israeli man and I’m bipolar. \n",
            "AMA] Body: [I’m a 22 year old Israeli man and I’m bipolar. I’ve been diagnosed with bipolar disorder \n",
            "for about 3 years now. I’ve been on and off medication for about 2 years now. I’ve been in and out of \n",
            "therapy for about 2 years now. I’ve been in and out of the hospital for about 2 years now. I’ve been in \n",
            "and out of the psychiatric ward for about 2 years now. I’ve been in and out of the psych ward for \n",
            "about 2 years now. I’ve been in and out of the psych ward for about 2 years now. I’ve been in and out of \n",
            "the psych ward for about 2 years now. I’ve been in and out of the psych ward for about 2 years now. \n",
            "I’ve been in and out of the psych ward for about 2 years now. I’ve been in and out of the psych ward \n",
            "for about 2 years now. I’ve been in and out of the psych ward for about 2 years now"
          ]
        }
      ],
      "source": [
        "from transformers import TextIteratorStreamer\n",
        "from threading import Thread\n",
        "text_streamer = TextIteratorStreamer(tokenizer)\n",
        "import textwrap\n",
        "max_print_width = 100\n",
        "\n",
        "inputs = tokenizer(\n",
        "[\n",
        "    \"Topic: [israel] Subreddit: [bipolar]\"\n",
        "]*1, return_tensors = \"pt\").to(\"cuda\")\n",
        "\n",
        "generation_kwargs = dict(\n",
        "    inputs,\n",
        "    streamer = text_streamer,\n",
        "    max_new_tokens = 256,\n",
        "    use_cache = True,\n",
        ")\n",
        "thread = Thread(target = model.generate, kwargs = generation_kwargs)\n",
        "thread.start()\n",
        "\n",
        "\n",
        "\n",
        "length = 0\n",
        "for j, new_text in enumerate(text_streamer):\n",
        "    if j == 0:\n",
        "        wrapped_text = textwrap.wrap(new_text, width = max_print_width)\n",
        "        length = len(wrapped_text[-1])\n",
        "        wrapped_text = \"\\n\".join(wrapped_text)\n",
        "        print(wrapped_text, end = \"\")\n",
        "    else:\n",
        "        length += len(new_text)\n",
        "        if length >= max_print_width:\n",
        "            length = 0\n",
        "            print()\n",
        "        print(new_text, end = \"\")\n",
        "    pass\n",
        "pass"
      ]
    },
    {
      "cell_type": "code",
      "execution_count": null,
      "metadata": {
        "colab": {
          "base_uri": "https://localhost:8080/"
        },
        "id": "F3etwXKKwTPV",
        "outputId": "644d6737-5a5a-4fb5-f177-c1f0485665ae"
      },
      "outputs": [
        {
          "name": "stderr",
          "output_type": "stream",
          "text": [
            "Setting `pad_token_id` to `eos_token_id`:2 for open-end generation.\n"
          ]
        },
        {
          "name": "stdout",
          "output_type": "stream",
          "text": [
            "<s> Below is an instruction that describes a task, paired with an input that provides further context. Write a response that appropriately completes the request.\n",
            "\n",
            "### Instruction:\n",
            "Given a Topic and a Subreddit, generate a Title and a body\n",
            "\n",
            "### Input:\n",
            "Topic: [botswana] Subreddit: [askwomenover30]\n",
            "\n",
            "### Response:\n",
            "Title: [Botswana: A Country of Opportunity for Women Over 30]\n",
            "\n",
            "Body: [Botswana is a country that offers many opportunities for women over 30. With a growing economy and a focus on gender equality, Botswana is an ideal place for women to pursue their career goals and personal aspirations. The country has a strong education system, with many universities and colleges offering a wide range of courses and programs. Women over 30 can also find plenty of job opportunities in Botswana, with many companies and organizations actively seeking qualified candidates. In addition, the country has a vibrant culture\n"
          ]
        }
      ],
      "source": [
        "# alpaca_prompt = Copied from above\n",
        "FastLanguageModel.for_inference(model) # Enable native 2x faster inference\n",
        "inputs = tokenizer(\n",
        "[\n",
        "    alpaca_prompt.format(\n",
        "        \"Given a Topic and a Subreddit, generate a Title and a body\", # instruction\n",
        "        \"Topic: [botswana] Subreddit: [askwomenover30]\", # input\n",
        "        \"Title: [\", # output - leave this blank for generation!\n",
        "    )\n",
        "], return_tensors = \"pt\").to(\"cuda\")\n",
        "\n",
        "from transformers import TextStreamer\n",
        "text_streamer = TextStreamer(tokenizer)\n",
        "_ = model.generate(**inputs, streamer = text_streamer, max_new_tokens = 128)"
      ]
    },
    {
      "cell_type": "code",
      "execution_count": null,
      "metadata": {
        "id": "QOTYf6rMPpEu"
      },
      "outputs": [],
      "source": [
        "alpaca_prompt = \"\"\"Below is an instruction that describes a task, paired with an input that provides further context. Write a response that appropriately completes the request.\n",
        "\n",
        "### Instruction:\n",
        "{}\n",
        "\n",
        "### Input:\n",
        "{}\n",
        "\n",
        "### Response:\n",
        "{}\"\"\"\n"
      ]
    },
    {
      "cell_type": "code",
      "execution_count": null,
      "metadata": {
        "colab": {
          "base_uri": "https://localhost:8080/",
          "height": 1000
        },
        "id": "BuK3CzxCNFx1",
        "outputId": "ffc7cb9e-50a3-40a5-c457-eaec6bf00559"
      },
      "outputs": [
        {
          "name": "stderr",
          "output_type": "stream",
          "text": [
            "Setting `pad_token_id` to `eos_token_id`:2 for open-end generation.\n"
          ]
        },
        {
          "name": "stdout",
          "output_type": "stream",
          "text": [
            "<s> Topic: [Pasta] Subreddit:[AITAH] Title'murica' Body: [deleted]\n",
            "\n",
            "\n",
            "\n",
            "---\n",
            "\n",
            "\n",
            "\n",
            "\n",
            "\n",
            "\n",
            "\n",
            "\n",
            "\n",
            "\n",
            "\n",
            "\n",
            "\n",
            "\n",
            "\n",
            "\n",
            "<unk>\n",
            "\n",
            "\n",
            "\n",
            "\n",
            "\n",
            "\n",
            "\n",
            "\n",
            "\n",
            "\n",
            "\n",
            "\n",
            "\n",
            "\n",
            "\n",
            "\n",
            "\n",
            "\n",
            "\n",
            "\n",
            "\n",
            "\n",
            "\n",
            "\n",
            "\n",
            "\n",
            "\n",
            "\n",
            "\n",
            "\n",
            "\n",
            "\n",
            "\n",
            "\n",
            "\n",
            "\n",
            "\n",
            "\n",
            "\n",
            "\n",
            "\n",
            "\n",
            "\n",
            "\n",
            "\n",
            "\n",
            "\n",
            "\n",
            "\n",
            "\n",
            "\n",
            "\n",
            "\n",
            "\n",
            "\n",
            "\n",
            "\n",
            "\n",
            "\n",
            "\n",
            "\n",
            "\n",
            "\n",
            "\n",
            "\n",
            "\n",
            "\n",
            "\n",
            "\n",
            "\n",
            "\n",
            "\n",
            "\n",
            "\n",
            "\n",
            "\n",
            "\n",
            "\n",
            "\n",
            "\n",
            "\n",
            "\n",
            "\n",
            "\n",
            "\n",
            "\n",
            "\n",
            "\n",
            "\n",
            "\n",
            "\n",
            "\n",
            "\n",
            "\n",
            "\n",
            "\n",
            "\n",
            "\n",
            "\n",
            "\n",
            "\n",
            "\n",
            "\n",
            "\n",
            "\n",
            "\n",
            "\n",
            "\n",
            "\n",
            "\n",
            "\n",
            "\n",
            "\n",
            "\n",
            "\n",
            "\n",
            "\n",
            "\n",
            "\n",
            "\n",
            "\n",
            "\n",
            "\n"
          ]
        },
        {
          "ename": "KeyboardInterrupt",
          "evalue": "",
          "output_type": "error",
          "traceback": [
            "\u001b[0;31m---------------------------------------------------------------------------\u001b[0m",
            "\u001b[0;31mKeyboardInterrupt\u001b[0m                         Traceback (most recent call last)",
            "\u001b[0;32m<ipython-input-6-ec4169e08823>\u001b[0m in \u001b[0;36m<cell line: 24>\u001b[0;34m()\u001b[0m\n\u001b[1;32m     22\u001b[0m \u001b[0;34m\u001b[0m\u001b[0m\n\u001b[1;32m     23\u001b[0m \u001b[0mlength\u001b[0m \u001b[0;34m=\u001b[0m \u001b[0;36m0\u001b[0m\u001b[0;34m\u001b[0m\u001b[0;34m\u001b[0m\u001b[0m\n\u001b[0;32m---> 24\u001b[0;31m \u001b[0;32mfor\u001b[0m \u001b[0mj\u001b[0m\u001b[0;34m,\u001b[0m \u001b[0mnew_text\u001b[0m \u001b[0;32min\u001b[0m \u001b[0menumerate\u001b[0m\u001b[0;34m(\u001b[0m\u001b[0mtext_streamer\u001b[0m\u001b[0;34m)\u001b[0m\u001b[0;34m:\u001b[0m\u001b[0;34m\u001b[0m\u001b[0;34m\u001b[0m\u001b[0m\n\u001b[0m\u001b[1;32m     25\u001b[0m     \u001b[0;32mif\u001b[0m \u001b[0mj\u001b[0m \u001b[0;34m==\u001b[0m \u001b[0;36m0\u001b[0m\u001b[0;34m:\u001b[0m\u001b[0;34m\u001b[0m\u001b[0;34m\u001b[0m\u001b[0m\n\u001b[1;32m     26\u001b[0m         \u001b[0mwrapped_text\u001b[0m \u001b[0;34m=\u001b[0m \u001b[0mtextwrap\u001b[0m\u001b[0;34m.\u001b[0m\u001b[0mwrap\u001b[0m\u001b[0;34m(\u001b[0m\u001b[0mnew_text\u001b[0m\u001b[0;34m,\u001b[0m \u001b[0mwidth\u001b[0m \u001b[0;34m=\u001b[0m \u001b[0mmax_print_width\u001b[0m\u001b[0;34m)\u001b[0m\u001b[0;34m\u001b[0m\u001b[0;34m\u001b[0m\u001b[0m\n",
            "\u001b[0;32m/usr/local/lib/python3.10/dist-packages/transformers/generation/streamers.py\u001b[0m in \u001b[0;36m__next__\u001b[0;34m(self)\u001b[0m\n\u001b[1;32m    221\u001b[0m \u001b[0;34m\u001b[0m\u001b[0m\n\u001b[1;32m    222\u001b[0m     \u001b[0;32mdef\u001b[0m \u001b[0m__next__\u001b[0m\u001b[0;34m(\u001b[0m\u001b[0mself\u001b[0m\u001b[0;34m)\u001b[0m\u001b[0;34m:\u001b[0m\u001b[0;34m\u001b[0m\u001b[0;34m\u001b[0m\u001b[0m\n\u001b[0;32m--> 223\u001b[0;31m         \u001b[0mvalue\u001b[0m \u001b[0;34m=\u001b[0m \u001b[0mself\u001b[0m\u001b[0;34m.\u001b[0m\u001b[0mtext_queue\u001b[0m\u001b[0;34m.\u001b[0m\u001b[0mget\u001b[0m\u001b[0;34m(\u001b[0m\u001b[0mtimeout\u001b[0m\u001b[0;34m=\u001b[0m\u001b[0mself\u001b[0m\u001b[0;34m.\u001b[0m\u001b[0mtimeout\u001b[0m\u001b[0;34m)\u001b[0m\u001b[0;34m\u001b[0m\u001b[0;34m\u001b[0m\u001b[0m\n\u001b[0m\u001b[1;32m    224\u001b[0m         \u001b[0;32mif\u001b[0m \u001b[0mvalue\u001b[0m \u001b[0;34m==\u001b[0m \u001b[0mself\u001b[0m\u001b[0;34m.\u001b[0m\u001b[0mstop_signal\u001b[0m\u001b[0;34m:\u001b[0m\u001b[0;34m\u001b[0m\u001b[0;34m\u001b[0m\u001b[0m\n\u001b[1;32m    225\u001b[0m             \u001b[0;32mraise\u001b[0m \u001b[0mStopIteration\u001b[0m\u001b[0;34m(\u001b[0m\u001b[0;34m)\u001b[0m\u001b[0;34m\u001b[0m\u001b[0;34m\u001b[0m\u001b[0m\n",
            "\u001b[0;32m/usr/lib/python3.10/queue.py\u001b[0m in \u001b[0;36mget\u001b[0;34m(self, block, timeout)\u001b[0m\n\u001b[1;32m    169\u001b[0m             \u001b[0;32melif\u001b[0m \u001b[0mtimeout\u001b[0m \u001b[0;32mis\u001b[0m \u001b[0;32mNone\u001b[0m\u001b[0;34m:\u001b[0m\u001b[0;34m\u001b[0m\u001b[0;34m\u001b[0m\u001b[0m\n\u001b[1;32m    170\u001b[0m                 \u001b[0;32mwhile\u001b[0m \u001b[0;32mnot\u001b[0m \u001b[0mself\u001b[0m\u001b[0;34m.\u001b[0m\u001b[0m_qsize\u001b[0m\u001b[0;34m(\u001b[0m\u001b[0;34m)\u001b[0m\u001b[0;34m:\u001b[0m\u001b[0;34m\u001b[0m\u001b[0;34m\u001b[0m\u001b[0m\n\u001b[0;32m--> 171\u001b[0;31m                     \u001b[0mself\u001b[0m\u001b[0;34m.\u001b[0m\u001b[0mnot_empty\u001b[0m\u001b[0;34m.\u001b[0m\u001b[0mwait\u001b[0m\u001b[0;34m(\u001b[0m\u001b[0;34m)\u001b[0m\u001b[0;34m\u001b[0m\u001b[0;34m\u001b[0m\u001b[0m\n\u001b[0m\u001b[1;32m    172\u001b[0m             \u001b[0;32melif\u001b[0m \u001b[0mtimeout\u001b[0m \u001b[0;34m<\u001b[0m \u001b[0;36m0\u001b[0m\u001b[0;34m:\u001b[0m\u001b[0;34m\u001b[0m\u001b[0;34m\u001b[0m\u001b[0m\n\u001b[1;32m    173\u001b[0m                 \u001b[0;32mraise\u001b[0m \u001b[0mValueError\u001b[0m\u001b[0;34m(\u001b[0m\u001b[0;34m\"'timeout' must be a non-negative number\"\u001b[0m\u001b[0;34m)\u001b[0m\u001b[0;34m\u001b[0m\u001b[0;34m\u001b[0m\u001b[0m\n",
            "\u001b[0;32m/usr/lib/python3.10/threading.py\u001b[0m in \u001b[0;36mwait\u001b[0;34m(self, timeout)\u001b[0m\n\u001b[1;32m    318\u001b[0m         \u001b[0;32mtry\u001b[0m\u001b[0;34m:\u001b[0m    \u001b[0;31m# restore state no matter what (e.g., KeyboardInterrupt)\u001b[0m\u001b[0;34m\u001b[0m\u001b[0;34m\u001b[0m\u001b[0m\n\u001b[1;32m    319\u001b[0m             \u001b[0;32mif\u001b[0m \u001b[0mtimeout\u001b[0m \u001b[0;32mis\u001b[0m \u001b[0;32mNone\u001b[0m\u001b[0;34m:\u001b[0m\u001b[0;34m\u001b[0m\u001b[0;34m\u001b[0m\u001b[0m\n\u001b[0;32m--> 320\u001b[0;31m                 \u001b[0mwaiter\u001b[0m\u001b[0;34m.\u001b[0m\u001b[0macquire\u001b[0m\u001b[0;34m(\u001b[0m\u001b[0;34m)\u001b[0m\u001b[0;34m\u001b[0m\u001b[0;34m\u001b[0m\u001b[0m\n\u001b[0m\u001b[1;32m    321\u001b[0m                 \u001b[0mgotit\u001b[0m \u001b[0;34m=\u001b[0m \u001b[0;32mTrue\u001b[0m\u001b[0;34m\u001b[0m\u001b[0;34m\u001b[0m\u001b[0m\n\u001b[1;32m    322\u001b[0m             \u001b[0;32melse\u001b[0m\u001b[0;34m:\u001b[0m\u001b[0;34m\u001b[0m\u001b[0;34m\u001b[0m\u001b[0m\n",
            "\u001b[0;31mKeyboardInterrupt\u001b[0m: "
          ]
        }
      ],
      "source": [
        "from transformers import TextIteratorStreamer\n",
        "from threading import Thread\n",
        "text_streamer = TextIteratorStreamer(tokenizer)\n",
        "import textwrap\n",
        "max_print_width = 100\n",
        "\n",
        "inputs = tokenizer(\n",
        "[\n",
        "    \"Topic: [Pasta] Subreddit: [AITAH]\"\n",
        "]*1, return_tensors = \"pt\").to(\"cuda\")\n",
        "\n",
        "generation_kwargs = dict(\n",
        "    inputs,\n",
        "    streamer = text_streamer,\n",
        "    max_new_tokens = 256,\n",
        "    use_cache = True,\n",
        ")\n",
        "thread = Thread(target = model.generate, kwargs = generation_kwargs)\n",
        "thread.start()\n",
        "\n",
        "\n",
        "\n",
        "length = 0\n",
        "for j, new_text in enumerate(text_streamer):\n",
        "    if j == 0:\n",
        "        wrapped_text = textwrap.wrap(new_text, width = max_print_width)\n",
        "        length = len(wrapped_text[-1])\n",
        "        wrapped_text = \"\\n\".join(wrapped_text)\n",
        "        print(wrapped_text, end = \"\")\n",
        "    else:\n",
        "        length += len(new_text)\n",
        "        if length >= max_print_width:\n",
        "            length = 0\n",
        "            print()\n",
        "        print(new_text, end = \"\")\n",
        "    pass\n",
        "pass"
      ]
    },
    {
      "cell_type": "code",
      "execution_count": null,
      "metadata": {
        "colab": {
          "base_uri": "https://localhost:8080/",
          "height": 1000
        },
        "id": "4tSh4v3BP1Rv",
        "outputId": "8349815f-2c39-485c-b4d7-d879d6894813"
      },
      "outputs": [
        {
          "name": "stderr",
          "output_type": "stream",
          "text": [
            "Setting `pad_token_id` to `eos_token_id`:2 for open-end generation.\n",
            "Exception in thread Thread-11 (_fast_generate):\n",
            "Traceback (most recent call last):\n",
            "  File \"/usr/lib/python3.10/threading.py\", line 1016, in _bootstrap_inner\n",
            "    self.run()\n",
            "  File \"/usr/lib/python3.10/threading.py\", line 953, in run\n",
            "    self._target(*self._args, **self._kwargs)\n",
            "  File \"/usr/local/lib/python3.10/dist-packages/torch/utils/_contextlib.py\", line 115, in decorate_context\n",
            "    return func(*args, **kwargs)\n",
            "  File \"/usr/local/lib/python3.10/dist-packages/unsloth/models/llama.py\", line 976, in _fast_generate\n",
            "    return generate(*args, **kwargs)\n",
            "  File \"/usr/local/lib/python3.10/dist-packages/peft/peft_model.py\", line 1190, in generate\n",
            "    outputs = self.base_model.generate(*args, **kwargs)\n",
            "  File \"/usr/local/lib/python3.10/dist-packages/torch/utils/_contextlib.py\", line 115, in decorate_context\n",
            "    return func(*args, **kwargs)\n",
            "  File \"/usr/local/lib/python3.10/dist-packages/transformers/generation/utils.py\", line 1576, in generate\n",
            "    result = self._greedy_search(\n",
            "  File \"/usr/local/lib/python3.10/dist-packages/transformers/generation/utils.py\", line 2494, in _greedy_search\n",
            "    outputs = self(\n",
            "  File \"/usr/local/lib/python3.10/dist-packages/torch/nn/modules/module.py\", line 1511, in _wrapped_call_impl\n",
            "    return self._call_impl(*args, **kwargs)\n",
            "  File \"/usr/local/lib/python3.10/dist-packages/torch/nn/modules/module.py\", line 1520, in _call_impl\n",
            "    return forward_call(*args, **kwargs)\n",
            "  File \"/usr/local/lib/python3.10/dist-packages/accelerate/hooks.py\", line 166, in new_forward\n",
            "    output = module._old_forward(*args, **kwargs)\n",
            "  File \"/usr/local/lib/python3.10/dist-packages/unsloth/models/mistral.py\", line 205, in MistralForCausalLM_fast_forward\n",
            "    outputs = LlamaModel_fast_forward_inference(\n",
            "  File \"/usr/local/lib/python3.10/dist-packages/unsloth/models/llama.py\", line 748, in LlamaModel_fast_forward_inference\n",
            "    hidden_states, present_key_value = LlamaAttention_fast_forward_inference(\n",
            "  File \"/usr/local/lib/python3.10/dist-packages/unsloth/models/llama.py\", line 181, in LlamaAttention_fast_forward_inference\n",
            "    self.paged_attention_K[seq_len] = Kn.permute(2, 0, 1, 3)\n",
            "  File \"/usr/local/lib/python3.10/dist-packages/torch/nn/modules/module.py\", line 1688, in __getattr__\n",
            "    raise AttributeError(f\"'{type(self).__name__}' object has no attribute '{name}'\")\n",
            "AttributeError: 'MistralSdpaAttention' object has no attribute 'paged_attention_K'\n"
          ]
        },
        {
          "name": "stdout",
          "output_type": "stream",
          "text": [
            "<s> Topic: [Pasta] Subreddit:[AITAH] Title: [AITAH for not wanting to go to my friend's wedding?] \n",
            "Body: [I (25F) have been friends with my friend (25F) for 10 years. We met in college and have been \n",
            "close ever since. She is getting married in a few months and has invited me to the wedding. I "
          ]
        },
        {
          "ename": "KeyboardInterrupt",
          "evalue": "",
          "output_type": "error",
          "traceback": [
            "\u001b[0;31m---------------------------------------------------------------------------\u001b[0m",
            "\u001b[0;31mKeyboardInterrupt\u001b[0m                         Traceback (most recent call last)",
            "\u001b[0;32m<ipython-input-7-ec4169e08823>\u001b[0m in \u001b[0;36m<cell line: 24>\u001b[0;34m()\u001b[0m\n\u001b[1;32m     33\u001b[0m             \u001b[0mlength\u001b[0m \u001b[0;34m=\u001b[0m \u001b[0;36m0\u001b[0m\u001b[0;34m\u001b[0m\u001b[0;34m\u001b[0m\u001b[0m\n\u001b[1;32m     34\u001b[0m             \u001b[0mprint\u001b[0m\u001b[0;34m(\u001b[0m\u001b[0;34m)\u001b[0m\u001b[0;34m\u001b[0m\u001b[0;34m\u001b[0m\u001b[0m\n\u001b[0;32m---> 35\u001b[0;31m         \u001b[0mprint\u001b[0m\u001b[0;34m(\u001b[0m\u001b[0mnew_text\u001b[0m\u001b[0;34m,\u001b[0m \u001b[0mend\u001b[0m \u001b[0;34m=\u001b[0m \u001b[0;34m\"\"\u001b[0m\u001b[0;34m)\u001b[0m\u001b[0;34m\u001b[0m\u001b[0;34m\u001b[0m\u001b[0m\n\u001b[0m\u001b[1;32m     36\u001b[0m     \u001b[0;32mpass\u001b[0m\u001b[0;34m\u001b[0m\u001b[0;34m\u001b[0m\u001b[0m\n\u001b[1;32m     37\u001b[0m \u001b[0;32mpass\u001b[0m\u001b[0;34m\u001b[0m\u001b[0;34m\u001b[0m\u001b[0m\n",
            "\u001b[0;32m/usr/local/lib/python3.10/dist-packages/ipykernel/iostream.py\u001b[0m in \u001b[0;36mwrite\u001b[0;34m(self, string)\u001b[0m\n\u001b[1;32m    400\u001b[0m             \u001b[0mis_child\u001b[0m \u001b[0;34m=\u001b[0m \u001b[0;34m(\u001b[0m\u001b[0;32mnot\u001b[0m \u001b[0mself\u001b[0m\u001b[0;34m.\u001b[0m\u001b[0m_is_master_process\u001b[0m\u001b[0;34m(\u001b[0m\u001b[0;34m)\u001b[0m\u001b[0;34m)\u001b[0m\u001b[0;34m\u001b[0m\u001b[0;34m\u001b[0m\u001b[0m\n\u001b[1;32m    401\u001b[0m             \u001b[0;31m# only touch the buffer in the IO thread to avoid races\u001b[0m\u001b[0;34m\u001b[0m\u001b[0;34m\u001b[0m\u001b[0m\n\u001b[0;32m--> 402\u001b[0;31m             \u001b[0mself\u001b[0m\u001b[0;34m.\u001b[0m\u001b[0mpub_thread\u001b[0m\u001b[0;34m.\u001b[0m\u001b[0mschedule\u001b[0m\u001b[0;34m(\u001b[0m\u001b[0;32mlambda\u001b[0m \u001b[0;34m:\u001b[0m \u001b[0mself\u001b[0m\u001b[0;34m.\u001b[0m\u001b[0m_buffer\u001b[0m\u001b[0;34m.\u001b[0m\u001b[0mwrite\u001b[0m\u001b[0;34m(\u001b[0m\u001b[0mstring\u001b[0m\u001b[0;34m)\u001b[0m\u001b[0;34m)\u001b[0m\u001b[0;34m\u001b[0m\u001b[0;34m\u001b[0m\u001b[0m\n\u001b[0m\u001b[1;32m    403\u001b[0m             \u001b[0;32mif\u001b[0m \u001b[0mis_child\u001b[0m\u001b[0;34m:\u001b[0m\u001b[0;34m\u001b[0m\u001b[0;34m\u001b[0m\u001b[0m\n\u001b[1;32m    404\u001b[0m                 \u001b[0;31m# mp.Pool cannot be trusted to flush promptly (or ever),\u001b[0m\u001b[0;34m\u001b[0m\u001b[0;34m\u001b[0m\u001b[0m\n",
            "\u001b[0;32m/usr/local/lib/python3.10/dist-packages/ipykernel/iostream.py\u001b[0m in \u001b[0;36mschedule\u001b[0;34m(self, f)\u001b[0m\n\u001b[1;32m    201\u001b[0m             \u001b[0mself\u001b[0m\u001b[0;34m.\u001b[0m\u001b[0m_events\u001b[0m\u001b[0;34m.\u001b[0m\u001b[0mappend\u001b[0m\u001b[0;34m(\u001b[0m\u001b[0mf\u001b[0m\u001b[0;34m)\u001b[0m\u001b[0;34m\u001b[0m\u001b[0;34m\u001b[0m\u001b[0m\n\u001b[1;32m    202\u001b[0m             \u001b[0;31m# wake event thread (message content is ignored)\u001b[0m\u001b[0;34m\u001b[0m\u001b[0;34m\u001b[0m\u001b[0m\n\u001b[0;32m--> 203\u001b[0;31m             \u001b[0mself\u001b[0m\u001b[0;34m.\u001b[0m\u001b[0m_event_pipe\u001b[0m\u001b[0;34m.\u001b[0m\u001b[0msend\u001b[0m\u001b[0;34m(\u001b[0m\u001b[0;34mb''\u001b[0m\u001b[0;34m)\u001b[0m\u001b[0;34m\u001b[0m\u001b[0;34m\u001b[0m\u001b[0m\n\u001b[0m\u001b[1;32m    204\u001b[0m         \u001b[0;32melse\u001b[0m\u001b[0;34m:\u001b[0m\u001b[0;34m\u001b[0m\u001b[0;34m\u001b[0m\u001b[0m\n\u001b[1;32m    205\u001b[0m             \u001b[0mf\u001b[0m\u001b[0;34m(\u001b[0m\u001b[0;34m)\u001b[0m\u001b[0;34m\u001b[0m\u001b[0;34m\u001b[0m\u001b[0m\n",
            "\u001b[0;32m/usr/local/lib/python3.10/dist-packages/zmq/sugar/socket.py\u001b[0m in \u001b[0;36msend\u001b[0;34m(self, data, flags, copy, track, routing_id, group)\u001b[0m\n\u001b[1;32m    616\u001b[0m                 )\n\u001b[1;32m    617\u001b[0m             \u001b[0mdata\u001b[0m\u001b[0;34m.\u001b[0m\u001b[0mgroup\u001b[0m \u001b[0;34m=\u001b[0m \u001b[0mgroup\u001b[0m\u001b[0;34m\u001b[0m\u001b[0;34m\u001b[0m\u001b[0m\n\u001b[0;32m--> 618\u001b[0;31m         \u001b[0;32mreturn\u001b[0m \u001b[0msuper\u001b[0m\u001b[0;34m(\u001b[0m\u001b[0;34m)\u001b[0m\u001b[0;34m.\u001b[0m\u001b[0msend\u001b[0m\u001b[0;34m(\u001b[0m\u001b[0mdata\u001b[0m\u001b[0;34m,\u001b[0m \u001b[0mflags\u001b[0m\u001b[0;34m=\u001b[0m\u001b[0mflags\u001b[0m\u001b[0;34m,\u001b[0m \u001b[0mcopy\u001b[0m\u001b[0;34m=\u001b[0m\u001b[0mcopy\u001b[0m\u001b[0;34m,\u001b[0m \u001b[0mtrack\u001b[0m\u001b[0;34m=\u001b[0m\u001b[0mtrack\u001b[0m\u001b[0;34m)\u001b[0m\u001b[0;34m\u001b[0m\u001b[0;34m\u001b[0m\u001b[0m\n\u001b[0m\u001b[1;32m    619\u001b[0m \u001b[0;34m\u001b[0m\u001b[0m\n\u001b[1;32m    620\u001b[0m     def send_multipart(\n",
            "\u001b[0;32mzmq/backend/cython/socket.pyx\u001b[0m in \u001b[0;36mzmq.backend.cython.socket.Socket.send\u001b[0;34m()\u001b[0m\n",
            "\u001b[0;32mzmq/backend/cython/socket.pyx\u001b[0m in \u001b[0;36mzmq.backend.cython.socket.Socket.send\u001b[0;34m()\u001b[0m\n",
            "\u001b[0;32mzmq/backend/cython/socket.pyx\u001b[0m in \u001b[0;36mzmq.backend.cython.socket._send_copy\u001b[0;34m()\u001b[0m\n",
            "\u001b[0;32m/usr/local/lib/python3.10/dist-packages/zmq/backend/cython/checkrc.pxd\u001b[0m in \u001b[0;36mzmq.backend.cython.checkrc._check_rc\u001b[0;34m()\u001b[0m\n",
            "\u001b[0;31mKeyboardInterrupt\u001b[0m: "
          ]
        }
      ],
      "source": [
        "from transformers import TextIteratorStreamer\n",
        "from threading import Thread\n",
        "text_streamer = TextIteratorStreamer(tokenizer)\n",
        "import textwrap\n",
        "max_print_width = 100\n",
        "\n",
        "inputs = tokenizer(\n",
        "[\n",
        "    \"Topic: [Pasta] Subreddit: [AITAH]\"\n",
        "]*1, return_tensors = \"pt\").to(\"cuda\")\n",
        "\n",
        "generation_kwargs = dict(\n",
        "    inputs,\n",
        "    streamer = text_streamer,\n",
        "    max_new_tokens = 256,\n",
        "    use_cache = True,\n",
        ")\n",
        "thread = Thread(target = model.generate, kwargs = generation_kwargs)\n",
        "thread.start()\n",
        "\n",
        "\n",
        "\n",
        "length = 0\n",
        "for j, new_text in enumerate(text_streamer):\n",
        "    if j == 0:\n",
        "        wrapped_text = textwrap.wrap(new_text, width = max_print_width)\n",
        "        length = len(wrapped_text[-1])\n",
        "        wrapped_text = \"\\n\".join(wrapped_text)\n",
        "        print(wrapped_text, end = \"\")\n",
        "    else:\n",
        "        length += len(new_text)\n",
        "        if length >= max_print_width:\n",
        "            length = 0\n",
        "            print()\n",
        "        print(new_text, end = \"\")\n",
        "    pass\n",
        "pass"
      ]
    },
    {
      "cell_type": "code",
      "execution_count": null,
      "metadata": {
        "colab": {
          "base_uri": "https://localhost:8080/",
          "height": 472
        },
        "id": "6q_C014tP8mk",
        "outputId": "4a28b81e-1a81-40dd-c453-4847238fe3c5"
      },
      "outputs": [
        {
          "name": "stderr",
          "output_type": "stream",
          "text": [
            "Setting `pad_token_id` to `eos_token_id`:2 for open-end generation.\n"
          ]
        },
        {
          "name": "stdout",
          "output_type": "stream",
          "text": [
            "<s> Topic: [Botswana] Subreddit:[Askwomenover30] Title: [I’m 30 and I’m not sure if I’m ready to \n",
            "be a mother] Body: [I’m 30 and I’m not sure if I’m ready to be a mother. I’m not sure if I want to be \n",
            "a mother. I’m not sure if I’m ready to be a mother. I’m not sure if I’m ready to be a mother. I’m \n",
            "not sure if I’m ready to be a mother. I’m not sure if I’m ready to be a mother. I’m not sure if I’m \n",
            "ready to be a mother. I’m not sure if "
          ]
        },
        {
          "ename": "KeyboardInterrupt",
          "evalue": "",
          "output_type": "error",
          "traceback": [
            "\u001b[0;31m---------------------------------------------------------------------------\u001b[0m",
            "\u001b[0;31mKeyboardInterrupt\u001b[0m                         Traceback (most recent call last)",
            "\u001b[0;32m<ipython-input-8-beee3060523f>\u001b[0m in \u001b[0;36m<cell line: 24>\u001b[0;34m()\u001b[0m\n\u001b[1;32m     33\u001b[0m             \u001b[0mlength\u001b[0m \u001b[0;34m=\u001b[0m \u001b[0;36m0\u001b[0m\u001b[0;34m\u001b[0m\u001b[0;34m\u001b[0m\u001b[0m\n\u001b[1;32m     34\u001b[0m             \u001b[0mprint\u001b[0m\u001b[0;34m(\u001b[0m\u001b[0;34m)\u001b[0m\u001b[0;34m\u001b[0m\u001b[0;34m\u001b[0m\u001b[0m\n\u001b[0;32m---> 35\u001b[0;31m         \u001b[0mprint\u001b[0m\u001b[0;34m(\u001b[0m\u001b[0mnew_text\u001b[0m\u001b[0;34m,\u001b[0m \u001b[0mend\u001b[0m \u001b[0;34m=\u001b[0m \u001b[0;34m\"\"\u001b[0m\u001b[0;34m)\u001b[0m\u001b[0;34m\u001b[0m\u001b[0;34m\u001b[0m\u001b[0m\n\u001b[0m\u001b[1;32m     36\u001b[0m     \u001b[0;32mpass\u001b[0m\u001b[0;34m\u001b[0m\u001b[0;34m\u001b[0m\u001b[0m\n\u001b[1;32m     37\u001b[0m \u001b[0;32mpass\u001b[0m\u001b[0;34m\u001b[0m\u001b[0;34m\u001b[0m\u001b[0m\n",
            "\u001b[0;32m/usr/local/lib/python3.10/dist-packages/ipykernel/iostream.py\u001b[0m in \u001b[0;36mwrite\u001b[0;34m(self, string)\u001b[0m\n\u001b[1;32m    398\u001b[0m                 \u001b[0mstring\u001b[0m \u001b[0;34m=\u001b[0m \u001b[0mstring\u001b[0m\u001b[0;34m.\u001b[0m\u001b[0mdecode\u001b[0m\u001b[0;34m(\u001b[0m\u001b[0mself\u001b[0m\u001b[0;34m.\u001b[0m\u001b[0mencoding\u001b[0m\u001b[0;34m,\u001b[0m \u001b[0;34m'replace'\u001b[0m\u001b[0;34m)\u001b[0m\u001b[0;34m\u001b[0m\u001b[0;34m\u001b[0m\u001b[0m\n\u001b[1;32m    399\u001b[0m \u001b[0;34m\u001b[0m\u001b[0m\n\u001b[0;32m--> 400\u001b[0;31m             \u001b[0mis_child\u001b[0m \u001b[0;34m=\u001b[0m \u001b[0;34m(\u001b[0m\u001b[0;32mnot\u001b[0m \u001b[0mself\u001b[0m\u001b[0;34m.\u001b[0m\u001b[0m_is_master_process\u001b[0m\u001b[0;34m(\u001b[0m\u001b[0;34m)\u001b[0m\u001b[0;34m)\u001b[0m\u001b[0;34m\u001b[0m\u001b[0;34m\u001b[0m\u001b[0m\n\u001b[0m\u001b[1;32m    401\u001b[0m             \u001b[0;31m# only touch the buffer in the IO thread to avoid races\u001b[0m\u001b[0;34m\u001b[0m\u001b[0;34m\u001b[0m\u001b[0m\n\u001b[1;32m    402\u001b[0m             \u001b[0mself\u001b[0m\u001b[0;34m.\u001b[0m\u001b[0mpub_thread\u001b[0m\u001b[0;34m.\u001b[0m\u001b[0mschedule\u001b[0m\u001b[0;34m(\u001b[0m\u001b[0;32mlambda\u001b[0m \u001b[0;34m:\u001b[0m \u001b[0mself\u001b[0m\u001b[0;34m.\u001b[0m\u001b[0m_buffer\u001b[0m\u001b[0;34m.\u001b[0m\u001b[0mwrite\u001b[0m\u001b[0;34m(\u001b[0m\u001b[0mstring\u001b[0m\u001b[0;34m)\u001b[0m\u001b[0;34m)\u001b[0m\u001b[0;34m\u001b[0m\u001b[0;34m\u001b[0m\u001b[0m\n",
            "\u001b[0;32m/usr/local/lib/python3.10/dist-packages/ipykernel/iostream.py\u001b[0m in \u001b[0;36m_is_master_process\u001b[0;34m(self)\u001b[0m\n\u001b[1;32m    307\u001b[0m \u001b[0;34m\u001b[0m\u001b[0m\n\u001b[1;32m    308\u001b[0m     \u001b[0;32mdef\u001b[0m \u001b[0m_is_master_process\u001b[0m\u001b[0;34m(\u001b[0m\u001b[0mself\u001b[0m\u001b[0;34m)\u001b[0m\u001b[0;34m:\u001b[0m\u001b[0;34m\u001b[0m\u001b[0;34m\u001b[0m\u001b[0m\n\u001b[0;32m--> 309\u001b[0;31m         \u001b[0;32mreturn\u001b[0m \u001b[0mos\u001b[0m\u001b[0;34m.\u001b[0m\u001b[0mgetpid\u001b[0m\u001b[0;34m(\u001b[0m\u001b[0;34m)\u001b[0m \u001b[0;34m==\u001b[0m \u001b[0mself\u001b[0m\u001b[0;34m.\u001b[0m\u001b[0m_master_pid\u001b[0m\u001b[0;34m\u001b[0m\u001b[0;34m\u001b[0m\u001b[0m\n\u001b[0m\u001b[1;32m    310\u001b[0m \u001b[0;34m\u001b[0m\u001b[0m\n\u001b[1;32m    311\u001b[0m     \u001b[0;32mdef\u001b[0m \u001b[0mset_parent\u001b[0m\u001b[0;34m(\u001b[0m\u001b[0mself\u001b[0m\u001b[0;34m,\u001b[0m \u001b[0mparent\u001b[0m\u001b[0;34m)\u001b[0m\u001b[0;34m:\u001b[0m\u001b[0;34m\u001b[0m\u001b[0;34m\u001b[0m\u001b[0m\n",
            "\u001b[0;31mKeyboardInterrupt\u001b[0m: "
          ]
        }
      ],
      "source": [
        "from transformers import TextIteratorStreamer\n",
        "from threading import Thread\n",
        "text_streamer = TextIteratorStreamer(tokenizer)\n",
        "import textwrap\n",
        "max_print_width = 100\n",
        "\n",
        "inputs = tokenizer(\n",
        "[\n",
        "    \"Topic: [Botswana] Subreddit: [Askwomenover30]\"\n",
        "]*1, return_tensors = \"pt\").to(\"cuda\")\n",
        "\n",
        "generation_kwargs = dict(\n",
        "    inputs,\n",
        "    streamer = text_streamer,\n",
        "    max_new_tokens = 256,\n",
        "    use_cache = True,\n",
        ")\n",
        "thread = Thread(target = model.generate, kwargs = generation_kwargs)\n",
        "thread.start()\n",
        "\n",
        "\n",
        "\n",
        "length = 0\n",
        "for j, new_text in enumerate(text_streamer):\n",
        "    if j == 0:\n",
        "        wrapped_text = textwrap.wrap(new_text, width = max_print_width)\n",
        "        length = len(wrapped_text[-1])\n",
        "        wrapped_text = \"\\n\".join(wrapped_text)\n",
        "        print(wrapped_text, end = \"\")\n",
        "    else:\n",
        "        length += len(new_text)\n",
        "        if length >= max_print_width:\n",
        "            length = 0\n",
        "            print()\n",
        "        print(new_text, end = \"\")\n",
        "    pass\n",
        "pass"
      ]
    },
    {
      "cell_type": "code",
      "execution_count": null,
      "metadata": {
        "colab": {
          "base_uri": "https://localhost:8080/"
        },
        "id": "9zvmEpKbQDsV",
        "outputId": "d5ad7438-c22e-44e8-e70a-d0a1b250140d"
      },
      "outputs": [
        {
          "name": "stderr",
          "output_type": "stream",
          "text": [
            "Setting `pad_token_id` to `eos_token_id`:2 for open-end generation.\n"
          ]
        },
        {
          "name": "stdout",
          "output_type": "stream",
          "text": [
            "<s> Topic: [botswana] Subreddit:[jokes] Title: [Botswana] Body: [I'm a bot, and this is a \n",
            "test.]</s>"
          ]
        }
      ],
      "source": [
        "from transformers import TextIteratorStreamer\n",
        "from threading import Thread\n",
        "text_streamer = TextIteratorStreamer(tokenizer)\n",
        "import textwrap\n",
        "max_print_width = 100\n",
        "\n",
        "inputs = tokenizer(\n",
        "[\n",
        "    \"Topic: [botswana] Subreddit: [jokes]\"\n",
        "]*1, return_tensors = \"pt\").to(\"cuda\")\n",
        "\n",
        "generation_kwargs = dict(\n",
        "    inputs,\n",
        "    streamer = text_streamer,\n",
        "    max_new_tokens = 256,\n",
        "    use_cache = True,\n",
        ")\n",
        "thread = Thread(target = model.generate, kwargs = generation_kwargs)\n",
        "thread.start()\n",
        "\n",
        "\n",
        "\n",
        "length = 0\n",
        "for j, new_text in enumerate(text_streamer):\n",
        "    if j == 0:\n",
        "        wrapped_text = textwrap.wrap(new_text, width = max_print_width)\n",
        "        length = len(wrapped_text[-1])\n",
        "        wrapped_text = \"\\n\".join(wrapped_text)\n",
        "        print(wrapped_text, end = \"\")\n",
        "    else:\n",
        "        length += len(new_text)\n",
        "        if length >= max_print_width:\n",
        "            length = 0\n",
        "            print()\n",
        "        print(new_text, end = \"\")\n",
        "    pass\n",
        "pass"
      ]
    },
    {
      "cell_type": "code",
      "execution_count": null,
      "metadata": {
        "colab": {
          "base_uri": "https://localhost:8080/"
        },
        "id": "LDQ8nTOxQNmu",
        "outputId": "02915d09-f66c-42be-e730-7875af3b9d68"
      },
      "outputs": [
        {
          "name": "stderr",
          "output_type": "stream",
          "text": [
            "Setting `pad_token_id` to `eos_token_id`:2 for open-end generation.\n"
          ]
        },
        {
          "name": "stdout",
          "output_type": "stream",
          "text": [
            "<s> Topic: [Botswana] Subreddit:[Jokes] Title: [A man walks into a bar] Body: [A man walks into a \n",
            "bar and orders a drink. The bartender asks him, \"What's your name?\" The man replies, \"I'm called 'The \n",
            "Man Who Walks Into Bars.'\" The bartender is confused and asks, \"Why do you have that name?\" The man \n",
            "says, \"It's a long story. I'll tell you if you buy me a drink.\" The bartender agrees and the man tells \n",
            "his story. \"I was born in a small village in Botswana. My father was a farmer and my mother was a \n",
            "housewife. I had a happy childhood, but I always felt like I was different from the other kids. I didn't fit \n",
            "in. When I was 18, I decided to leave my village and travel the world. I visited many countries and \n",
            "met many people, but I never felt like I belonged anywhere. Then one day, I was walking through a city \n",
            "and I saw a sign that said 'Bar.' I walked in and ordered a drink. The bartender asked me my name and \n",
            "I said, 'I'm called 'The Man Who Walks Into Bars.'\" The"
          ]
        }
      ],
      "source": [
        "from transformers import TextIteratorStreamer\n",
        "from threading import Thread\n",
        "text_streamer = TextIteratorStreamer(tokenizer)\n",
        "import textwrap\n",
        "max_print_width = 100\n",
        "\n",
        "inputs = tokenizer(\n",
        "[\n",
        "    \"Topic: [Botswana] Subreddit: [Jokes]\"\n",
        "]*1, return_tensors = \"pt\").to(\"cuda\")\n",
        "\n",
        "generation_kwargs = dict(\n",
        "    inputs,\n",
        "    streamer = text_streamer,\n",
        "    max_new_tokens = 256,\n",
        "    use_cache = True,\n",
        ")\n",
        "thread = Thread(target = model.generate, kwargs = generation_kwargs)\n",
        "thread.start()\n",
        "\n",
        "\n",
        "\n",
        "length = 0\n",
        "for j, new_text in enumerate(text_streamer):\n",
        "    if j == 0:\n",
        "        wrapped_text = textwrap.wrap(new_text, width = max_print_width)\n",
        "        length = len(wrapped_text[-1])\n",
        "        wrapped_text = \"\\n\".join(wrapped_text)\n",
        "        print(wrapped_text, end = \"\")\n",
        "    else:\n",
        "        length += len(new_text)\n",
        "        if length >= max_print_width:\n",
        "            length = 0\n",
        "            print()\n",
        "        print(new_text, end = \"\")\n",
        "    pass\n",
        "pass"
      ]
    },
    {
      "cell_type": "code",
      "execution_count": null,
      "metadata": {
        "colab": {
          "base_uri": "https://localhost:8080/"
        },
        "id": "8mbT1KwgQ3f3",
        "outputId": "ff3cd367-ac82-44f1-df5b-9a9f060e953e"
      },
      "outputs": [
        {
          "name": "stderr",
          "output_type": "stream",
          "text": [
            "Setting `pad_token_id` to `eos_token_id`:2 for open-end generation.\n"
          ]
        },
        {
          "name": "stdout",
          "output_type": "stream",
          "text": [
            "<s> Topic: [Botswana] Subreddit:[bipolar]\n",
            "\n",
            "I'm a 23 year old male from Botswana. I've been \n",
            "diagnosed with bipolar disorder and I'm currently on medication. I'm not sure if I'm in a manic or \n",
            "depressive episode but I'm feeling very down and I'm not sure what to do. I'm not sure if I'm in a manic or \n",
            "depressive episode but I'm feeling very down and I'm not sure what to do. I'm not sure if I'm in a manic or \n",
            "depressive episode but I'm feeling very down and I'm not sure what to do. I'm not sure if I'm in a manic or \n",
            "depressive episode but I'm feeling very down and I'm not sure what to do. I'm not sure if I'm in a manic or \n",
            "depressive episode but I'm feeling very down and I'm not sure what to do. I'm not sure if I'm in a manic or \n",
            "depressive episode but I'm feeling very down and I'm not sure what to do. I'm not sure if I'm in a manic or \n",
            "depressive episode"
          ]
        }
      ],
      "source": [
        "from transformers import TextIteratorStreamer\n",
        "from threading import Thread\n",
        "text_streamer = TextIteratorStreamer(tokenizer)\n",
        "import textwrap\n",
        "max_print_width = 100\n",
        "\n",
        "inputs = tokenizer(\n",
        "[\n",
        "    \"Topic: [Botswana] Subreddit: [bipolar]\"\n",
        "]*1, return_tensors = \"pt\").to(\"cuda\")\n",
        "\n",
        "generation_kwargs = dict(\n",
        "    inputs,\n",
        "    streamer = text_streamer,\n",
        "    max_new_tokens = 256,\n",
        "    use_cache = True,\n",
        ")\n",
        "thread = Thread(target = model.generate, kwargs = generation_kwargs)\n",
        "thread.start()\n",
        "\n",
        "\n",
        "\n",
        "length = 0\n",
        "for j, new_text in enumerate(text_streamer):\n",
        "    if j == 0:\n",
        "        wrapped_text = textwrap.wrap(new_text, width = max_print_width)\n",
        "        length = len(wrapped_text[-1])\n",
        "        wrapped_text = \"\\n\".join(wrapped_text)\n",
        "        print(wrapped_text, end = \"\")\n",
        "    else:\n",
        "        length += len(new_text)\n",
        "        if length >= max_print_width:\n",
        "            length = 0\n",
        "            print()\n",
        "        print(new_text, end = \"\")\n",
        "    pass\n",
        "pass"
      ]
    },
    {
      "cell_type": "code",
      "execution_count": null,
      "metadata": {
        "colab": {
          "base_uri": "https://localhost:8080/",
          "height": 552
        },
        "id": "RD41B2lKuY0d",
        "outputId": "d89e743b-80d4-425d-ca81-db3aadc564b2"
      },
      "outputs": [
        {
          "name": "stderr",
          "output_type": "stream",
          "text": [
            "Setting `pad_token_id` to `eos_token_id`:2 for open-end generation.\n"
          ]
        },
        {
          "name": "stdout",
          "output_type": "stream",
          "text": [
            "<s> Topic: [lebron james] Subreddit:[tifu] Title: [AITAH for not wanting to go to my friend’s \n",
            "wedding?] Body:\n",
            "\n",
            "I (25M) have been friends with my friend (25M) for 10 years. We met in high school and have \n",
            "been close friends ever since. We have been through a lot together and have always been there for each \n",
            "other.\n",
            "\n",
            "Recently, my friend got engaged and is planning his wedding. He has asked me to be his best man \n",
            "and I have agreed. However, I am not excited about "
          ]
        },
        {
          "ename": "KeyboardInterrupt",
          "evalue": "",
          "output_type": "error",
          "traceback": [
            "\u001b[0;31m---------------------------------------------------------------------------\u001b[0m",
            "\u001b[0;31mKeyboardInterrupt\u001b[0m                         Traceback (most recent call last)",
            "\u001b[0;32m<ipython-input-20-d24b67b13806>\u001b[0m in \u001b[0;36m<cell line: 24>\u001b[0;34m()\u001b[0m\n\u001b[1;32m     22\u001b[0m \u001b[0;34m\u001b[0m\u001b[0m\n\u001b[1;32m     23\u001b[0m \u001b[0mlength\u001b[0m \u001b[0;34m=\u001b[0m \u001b[0;36m0\u001b[0m\u001b[0;34m\u001b[0m\u001b[0;34m\u001b[0m\u001b[0m\n\u001b[0;32m---> 24\u001b[0;31m \u001b[0;32mfor\u001b[0m \u001b[0mj\u001b[0m\u001b[0;34m,\u001b[0m \u001b[0mnew_text\u001b[0m \u001b[0;32min\u001b[0m \u001b[0menumerate\u001b[0m\u001b[0;34m(\u001b[0m\u001b[0mtext_streamer\u001b[0m\u001b[0;34m)\u001b[0m\u001b[0;34m:\u001b[0m\u001b[0;34m\u001b[0m\u001b[0;34m\u001b[0m\u001b[0m\n\u001b[0m\u001b[1;32m     25\u001b[0m     \u001b[0;32mif\u001b[0m \u001b[0mj\u001b[0m \u001b[0;34m==\u001b[0m \u001b[0;36m0\u001b[0m\u001b[0;34m:\u001b[0m\u001b[0;34m\u001b[0m\u001b[0;34m\u001b[0m\u001b[0m\n\u001b[1;32m     26\u001b[0m         \u001b[0mwrapped_text\u001b[0m \u001b[0;34m=\u001b[0m \u001b[0mtextwrap\u001b[0m\u001b[0;34m.\u001b[0m\u001b[0mwrap\u001b[0m\u001b[0;34m(\u001b[0m\u001b[0mnew_text\u001b[0m\u001b[0;34m,\u001b[0m \u001b[0mwidth\u001b[0m \u001b[0;34m=\u001b[0m \u001b[0mmax_print_width\u001b[0m\u001b[0;34m)\u001b[0m\u001b[0;34m\u001b[0m\u001b[0;34m\u001b[0m\u001b[0m\n",
            "\u001b[0;32m/usr/local/lib/python3.10/dist-packages/transformers/generation/streamers.py\u001b[0m in \u001b[0;36m__next__\u001b[0;34m(self)\u001b[0m\n\u001b[1;32m    221\u001b[0m \u001b[0;34m\u001b[0m\u001b[0m\n\u001b[1;32m    222\u001b[0m     \u001b[0;32mdef\u001b[0m \u001b[0m__next__\u001b[0m\u001b[0;34m(\u001b[0m\u001b[0mself\u001b[0m\u001b[0;34m)\u001b[0m\u001b[0;34m:\u001b[0m\u001b[0;34m\u001b[0m\u001b[0;34m\u001b[0m\u001b[0m\n\u001b[0;32m--> 223\u001b[0;31m         \u001b[0mvalue\u001b[0m \u001b[0;34m=\u001b[0m \u001b[0mself\u001b[0m\u001b[0;34m.\u001b[0m\u001b[0mtext_queue\u001b[0m\u001b[0;34m.\u001b[0m\u001b[0mget\u001b[0m\u001b[0;34m(\u001b[0m\u001b[0mtimeout\u001b[0m\u001b[0;34m=\u001b[0m\u001b[0mself\u001b[0m\u001b[0;34m.\u001b[0m\u001b[0mtimeout\u001b[0m\u001b[0;34m)\u001b[0m\u001b[0;34m\u001b[0m\u001b[0;34m\u001b[0m\u001b[0m\n\u001b[0m\u001b[1;32m    224\u001b[0m         \u001b[0;32mif\u001b[0m \u001b[0mvalue\u001b[0m \u001b[0;34m==\u001b[0m \u001b[0mself\u001b[0m\u001b[0;34m.\u001b[0m\u001b[0mstop_signal\u001b[0m\u001b[0;34m:\u001b[0m\u001b[0;34m\u001b[0m\u001b[0;34m\u001b[0m\u001b[0m\n\u001b[1;32m    225\u001b[0m             \u001b[0;32mraise\u001b[0m \u001b[0mStopIteration\u001b[0m\u001b[0;34m(\u001b[0m\u001b[0;34m)\u001b[0m\u001b[0;34m\u001b[0m\u001b[0;34m\u001b[0m\u001b[0m\n",
            "\u001b[0;32m/usr/lib/python3.10/queue.py\u001b[0m in \u001b[0;36mget\u001b[0;34m(self, block, timeout)\u001b[0m\n\u001b[1;32m    169\u001b[0m             \u001b[0;32melif\u001b[0m \u001b[0mtimeout\u001b[0m \u001b[0;32mis\u001b[0m \u001b[0;32mNone\u001b[0m\u001b[0;34m:\u001b[0m\u001b[0;34m\u001b[0m\u001b[0;34m\u001b[0m\u001b[0m\n\u001b[1;32m    170\u001b[0m                 \u001b[0;32mwhile\u001b[0m \u001b[0;32mnot\u001b[0m \u001b[0mself\u001b[0m\u001b[0;34m.\u001b[0m\u001b[0m_qsize\u001b[0m\u001b[0;34m(\u001b[0m\u001b[0;34m)\u001b[0m\u001b[0;34m:\u001b[0m\u001b[0;34m\u001b[0m\u001b[0;34m\u001b[0m\u001b[0m\n\u001b[0;32m--> 171\u001b[0;31m                     \u001b[0mself\u001b[0m\u001b[0;34m.\u001b[0m\u001b[0mnot_empty\u001b[0m\u001b[0;34m.\u001b[0m\u001b[0mwait\u001b[0m\u001b[0;34m(\u001b[0m\u001b[0;34m)\u001b[0m\u001b[0;34m\u001b[0m\u001b[0;34m\u001b[0m\u001b[0m\n\u001b[0m\u001b[1;32m    172\u001b[0m             \u001b[0;32melif\u001b[0m \u001b[0mtimeout\u001b[0m \u001b[0;34m<\u001b[0m \u001b[0;36m0\u001b[0m\u001b[0;34m:\u001b[0m\u001b[0;34m\u001b[0m\u001b[0;34m\u001b[0m\u001b[0m\n\u001b[1;32m    173\u001b[0m                 \u001b[0;32mraise\u001b[0m \u001b[0mValueError\u001b[0m\u001b[0;34m(\u001b[0m\u001b[0;34m\"'timeout' must be a non-negative number\"\u001b[0m\u001b[0;34m)\u001b[0m\u001b[0;34m\u001b[0m\u001b[0;34m\u001b[0m\u001b[0m\n",
            "\u001b[0;32m/usr/lib/python3.10/threading.py\u001b[0m in \u001b[0;36mwait\u001b[0;34m(self, timeout)\u001b[0m\n\u001b[1;32m    318\u001b[0m         \u001b[0;32mtry\u001b[0m\u001b[0;34m:\u001b[0m    \u001b[0;31m# restore state no matter what (e.g., KeyboardInterrupt)\u001b[0m\u001b[0;34m\u001b[0m\u001b[0;34m\u001b[0m\u001b[0m\n\u001b[1;32m    319\u001b[0m             \u001b[0;32mif\u001b[0m \u001b[0mtimeout\u001b[0m \u001b[0;32mis\u001b[0m \u001b[0;32mNone\u001b[0m\u001b[0;34m:\u001b[0m\u001b[0;34m\u001b[0m\u001b[0;34m\u001b[0m\u001b[0m\n\u001b[0;32m--> 320\u001b[0;31m                 \u001b[0mwaiter\u001b[0m\u001b[0;34m.\u001b[0m\u001b[0macquire\u001b[0m\u001b[0;34m(\u001b[0m\u001b[0;34m)\u001b[0m\u001b[0;34m\u001b[0m\u001b[0;34m\u001b[0m\u001b[0m\n\u001b[0m\u001b[1;32m    321\u001b[0m                 \u001b[0mgotit\u001b[0m \u001b[0;34m=\u001b[0m \u001b[0;32mTrue\u001b[0m\u001b[0;34m\u001b[0m\u001b[0;34m\u001b[0m\u001b[0m\n\u001b[1;32m    322\u001b[0m             \u001b[0;32melse\u001b[0m\u001b[0;34m:\u001b[0m\u001b[0;34m\u001b[0m\u001b[0;34m\u001b[0m\u001b[0m\n",
            "\u001b[0;31mKeyboardInterrupt\u001b[0m: "
          ]
        }
      ],
      "source": [
        "from transformers import TextIteratorStreamer\n",
        "from threading import Thread\n",
        "text_streamer = TextIteratorStreamer(tokenizer)\n",
        "import textwrap\n",
        "max_print_width = 100\n",
        "\n",
        "inputs = tokenizer(\n",
        "[\n",
        "    \"Topic: [lebron james] Subreddit: [tifu]\"\n",
        "]*1, return_tensors = \"pt\").to(\"cuda\")\n",
        "\n",
        "generation_kwargs = dict(\n",
        "    inputs,\n",
        "    streamer = text_streamer,\n",
        "    max_new_tokens = 256,\n",
        "    use_cache = True,\n",
        ")\n",
        "thread = Thread(target = model.generate, kwargs = generation_kwargs)\n",
        "thread.start()\n",
        "\n",
        "\n",
        "\n",
        "length = 0\n",
        "for j, new_text in enumerate(text_streamer):\n",
        "    if j == 0:\n",
        "        wrapped_text = textwrap.wrap(new_text, width = max_print_width)\n",
        "        length = len(wrapped_text[-1])\n",
        "        wrapped_text = \"\\n\".join(wrapped_text)\n",
        "        print(wrapped_text, end = \"\")\n",
        "    else:\n",
        "        length += len(new_text)\n",
        "        if length >= max_print_width:\n",
        "            length = 0\n",
        "            print()\n",
        "        print(new_text, end = \"\")\n",
        "    pass\n",
        "pass"
      ]
    },
    {
      "cell_type": "code",
      "execution_count": null,
      "metadata": {
        "colab": {
          "base_uri": "https://localhost:8080/"
        },
        "id": "z9YBaff3vQkn",
        "outputId": "66891cc4-5afd-4a1b-f2e1-aa0ec0079eb9"
      },
      "outputs": [
        {
          "name": "stderr",
          "output_type": "stream",
          "text": [
            "Setting `pad_token_id` to `eos_token_id`:2 for open-end generation.\n"
          ]
        },
        {
          "name": "stdout",
          "output_type": "stream",
          "text": [
            "<s> Topic: [christ] Subreddit:[atheism] Title: \n",
            "[Atheism]<unk><unk><unk><unk><unk><unk><unk><unk><unk><unk><unk><unk><unk><unk><unk><unk><unk><unk><unk><unk><unk><unk><unk><unk><unk><unk><unk><unk><unk><unk><unk><unk><unk><unk><unk><unk><unk><unk><unk><unk><unk><unk><unk><unk><unk><unk><unk><unk><unk><unk><unk><unk><unk><unk><unk><unk><unk><unk><unk><unk><unk><unk><unk><unk><unk><unk><unk><unk><unk><unk><unk><unk><unk><unk><unk><unk><unk><unk><unk><unk><unk><unk><unk><unk><unk><unk><unk><unk><unk><unk><unk><unk><unk><unk><unk><unk><unk><unk><unk><unk><unk><unk><unk><unk><unk><unk><unk><unk><unk><unk><unk><unk><unk><unk><unk><unk><unk><unk><unk><unk><unk><unk><unk><unk><unk><unk><unk><unk><unk><unk><unk><unk><unk><unk><unk><unk><unk><unk><unk><unk><unk><unk><unk><unk><unk><unk><unk><unk><unk><unk><unk><unk><unk><unk><unk><unk><unk><unk><unk><unk><unk><unk><unk><unk><unk><unk><unk><unk><unk><unk><unk><unk><unk><unk><unk><unk><unk><unk><unk><unk><unk><unk><unk><unk><unk><unk><unk><unk><unk><unk><unk><unk><unk><unk><unk><unk><unk><unk><unk><unk><unk><unk><unk><unk><unk><unk><unk><unk><unk><unk><unk><unk><unk><unk><unk><unk><unk><unk><unk><unk><unk><unk><unk><unk><unk><unk><unk><unk><unk><unk><unk><unk><unk><unk><unk><unk><unk><unk><unk><unk><unk><unk><unk><unk><unk><unk><unk><unk><unk>"
          ]
        }
      ],
      "source": [
        "from transformers import TextIteratorStreamer\n",
        "from threading import Thread\n",
        "text_streamer = TextIteratorStreamer(tokenizer)\n",
        "import textwrap\n",
        "max_print_width = 100\n",
        "\n",
        "inputs = tokenizer(\n",
        "[\n",
        "    \"Topic: [christ] Subreddit: [atheism]\"\n",
        "]*1, return_tensors = \"pt\").to(\"cuda\")\n",
        "\n",
        "generation_kwargs = dict(\n",
        "    inputs,\n",
        "    streamer = text_streamer,\n",
        "    max_new_tokens = 256,\n",
        "    use_cache = True,\n",
        ")\n",
        "thread = Thread(target = model.generate, kwargs = generation_kwargs)\n",
        "thread.start()\n",
        "\n",
        "\n",
        "\n",
        "length = 0\n",
        "for j, new_text in enumerate(text_streamer):\n",
        "    if j == 0:\n",
        "        wrapped_text = textwrap.wrap(new_text, width = max_print_width)\n",
        "        length = len(wrapped_text[-1])\n",
        "        wrapped_text = \"\\n\".join(wrapped_text)\n",
        "        print(wrapped_text, end = \"\")\n",
        "    else:\n",
        "        length += len(new_text)\n",
        "        if length >= max_print_width:\n",
        "            length = 0\n",
        "            print()\n",
        "        print(new_text, end = \"\")\n",
        "    pass\n",
        "pass"
      ]
    },
    {
      "cell_type": "code",
      "execution_count": 1,
      "metadata": {
        "colab": {
          "base_uri": "https://localhost:8080/",
          "height": 310
        },
        "id": "D22OudNUvJym",
        "outputId": "95fcc1c8-231e-412b-cf2a-a9952eee741c"
      },
      "outputs": [
        {
          "name": "stderr",
          "output_type": "stream",
          "text": [
            "Exception ignored in: <function _xla_gc_callback at 0x7ce54c628dc0>\n",
            "Traceback (most recent call last):\n",
            "  File \"/usr/local/lib/python3.10/dist-packages/jax/_src/lib/__init__.py\", line 98, in _xla_gc_callback\n",
            "    def _xla_gc_callback(*args):\n",
            "KeyboardInterrupt: \n"
          ]
        },
        {
          "ename": "NameError",
          "evalue": "name 'tokenizer' is not defined",
          "output_type": "error",
          "traceback": [
            "\u001b[0;31m---------------------------------------------------------------------------\u001b[0m",
            "\u001b[0;31mNameError\u001b[0m                                 Traceback (most recent call last)",
            "\u001b[0;32m<ipython-input-1-048d465a3e77>\u001b[0m in \u001b[0;36m<cell line: 3>\u001b[0;34m()\u001b[0m\n\u001b[1;32m      1\u001b[0m \u001b[0;32mfrom\u001b[0m \u001b[0mtransformers\u001b[0m \u001b[0;32mimport\u001b[0m \u001b[0mTextIteratorStreamer\u001b[0m\u001b[0;34m\u001b[0m\u001b[0;34m\u001b[0m\u001b[0m\n\u001b[1;32m      2\u001b[0m \u001b[0;32mfrom\u001b[0m \u001b[0mthreading\u001b[0m \u001b[0;32mimport\u001b[0m \u001b[0mThread\u001b[0m\u001b[0;34m\u001b[0m\u001b[0;34m\u001b[0m\u001b[0m\n\u001b[0;32m----> 3\u001b[0;31m \u001b[0mtext_streamer\u001b[0m \u001b[0;34m=\u001b[0m \u001b[0mTextIteratorStreamer\u001b[0m\u001b[0;34m(\u001b[0m\u001b[0mtokenizer\u001b[0m\u001b[0;34m)\u001b[0m\u001b[0;34m\u001b[0m\u001b[0;34m\u001b[0m\u001b[0m\n\u001b[0m\u001b[1;32m      4\u001b[0m \u001b[0;32mimport\u001b[0m \u001b[0mtextwrap\u001b[0m\u001b[0;34m\u001b[0m\u001b[0;34m\u001b[0m\u001b[0m\n\u001b[1;32m      5\u001b[0m \u001b[0mmax_print_width\u001b[0m \u001b[0;34m=\u001b[0m \u001b[0;36m100\u001b[0m\u001b[0;34m\u001b[0m\u001b[0;34m\u001b[0m\u001b[0m\n",
            "\u001b[0;31mNameError\u001b[0m: name 'tokenizer' is not defined"
          ]
        }
      ],
      "source": [
        "from transformers import TextIteratorStreamer\n",
        "from threading import Thread\n",
        "text_streamer = TextIteratorStreamer(tokenizer)\n",
        "import textwrap\n",
        "max_print_width = 100\n",
        "\n",
        "inputs = tokenizer(\n",
        "[\n",
        "    \"Topic: [lebron james] Subreddit: [QAnonCasualties]\"\n",
        "]*1, return_tensors = \"pt\").to(\"cuda\")\n",
        "\n",
        "generation_kwargs = dict(\n",
        "    inputs,\n",
        "    streamer = text_streamer,\n",
        "    max_new_tokens = 256,\n",
        "    use_cache = True,\n",
        ")\n",
        "thread = Thread(target = model.generate, kwargs = generation_kwargs)\n",
        "thread.start()\n",
        "\n",
        "\n",
        "\n",
        "length = 0\n",
        "for j, new_text in enumerate(text_streamer):\n",
        "    if j == 0:\n",
        "        wrapped_text = textwrap.wrap(new_text, width = max_print_width)\n",
        "        length = len(wrapped_text[-1])\n",
        "        wrapped_text = \"\\n\".join(wrapped_text)\n",
        "        print(wrapped_text, end = \"\")\n",
        "    else:\n",
        "        length += len(new_text)\n",
        "        if length >= max_print_width:\n",
        "            length = 0\n",
        "            print()\n",
        "        print(new_text, end = \"\")\n",
        "    pass\n",
        "pass"
      ]
    },
    {
      "cell_type": "code",
      "execution_count": null,
      "metadata": {
        "colab": {
          "base_uri": "https://localhost:8080/"
        },
        "id": "0zSO3z0Huj7p",
        "outputId": "2ddbfe43-2a8b-448b-919f-6e042cb3a6e8"
      },
      "outputs": [
        {
          "name": "stderr",
          "output_type": "stream",
          "text": [
            "Setting `pad_token_id` to `eos_token_id`:2 for open-end generation.\n"
          ]
        },
        {
          "name": "stdout",
          "output_type": "stream",
          "text": [
            "<s> Topic: [lebron] Subreddit:[bipolar] Title: [I’m a 20 year old male and I’m bipolar. I’m also a \n",
            "huge basketball fan and I’m a die hard lebron fan. I’m also a huge lebron fan. I’m also a huge lebron \n",
            "fan. I’m also a huge lebron fan. I’m also a huge lebron fan. I’m also a huge lebron fan. I’m also a \n",
            "huge lebron fan. I’m also a huge lebron fan. I’m also a huge lebron fan. I’m also a huge lebron fan. \n",
            "I’m also a huge lebron fan. I’m also a huge lebron fan. I’m also a huge lebron fan. I’m also a huge \n",
            "lebron fan. I’m also a huge lebron fan. I’m also a huge lebron fan. I’m also a huge lebron fan. I’m also \n",
            "a huge lebron fan. I’m also a huge lebron fan. I’m also a huge lebron fan. I’m also a huge"
          ]
        }
      ],
      "source": [
        "from transformers import TextIteratorStreamer\n",
        "from threading import Thread\n",
        "text_streamer = TextIteratorStreamer(tokenizer)\n",
        "import textwrap\n",
        "max_print_width = 100\n",
        "\n",
        "inputs = tokenizer(\n",
        "[\n",
        "    \"Topic: [lebron] Subreddit: [bipolar]\"\n",
        "]*1, return_tensors = \"pt\").to(\"cuda\")\n",
        "\n",
        "generation_kwargs = dict(\n",
        "    inputs,\n",
        "    streamer = text_streamer,\n",
        "    max_new_tokens = 256,\n",
        "    use_cache = True,\n",
        ")\n",
        "thread = Thread(target = model.generate, kwargs = generation_kwargs)\n",
        "thread.start()\n",
        "\n",
        "\n",
        "\n",
        "length = 0\n",
        "for j, new_text in enumerate(text_streamer):\n",
        "    if j == 0:\n",
        "        wrapped_text = textwrap.wrap(new_text, width = max_print_width)\n",
        "        length = len(wrapped_text[-1])\n",
        "        wrapped_text = \"\\n\".join(wrapped_text)\n",
        "        print(wrapped_text, end = \"\")\n",
        "    else:\n",
        "        length += len(new_text)\n",
        "        if length >= max_print_width:\n",
        "            length = 0\n",
        "            print()\n",
        "        print(new_text, end = \"\")\n",
        "    pass\n",
        "pass"
      ]
    },
    {
      "cell_type": "code",
      "execution_count": null,
      "metadata": {
        "colab": {
          "base_uri": "https://localhost:8080/"
        },
        "id": "vxoT4vQvupJg",
        "outputId": "31f71dc5-1f43-456e-922a-13f73f5d24f2"
      },
      "outputs": [
        {
          "name": "stderr",
          "output_type": "stream",
          "text": [
            "Setting `pad_token_id` to `eos_token_id`:2 for open-end generation.\n"
          ]
        },
        {
          "name": "stdout",
          "output_type": "stream",
          "text": [
            "<s> Topic: [lebron james] Subreddit:[tifu] Title [AITAH] I (25M) told my girlfriend (24F) that I \n",
            "don in college and she got mad\n",
            "\n",
            "Body:.\n",
            "\n",
            "I (25M) told my girlfriend (24F) that I don't like LeBron \n",
            "James (40M) and she got mad.\n",
            "\n",
            "I'm a big fan of the NBA and I've been following the league for a James. \n",
            "I0he I.\n",
            "\n",
            "♡\n",
            "\n",
            "I've always been a fan of the Cleveland Cavaliers and I've been following the team since I \n",
            "was a kid. I've always been a fan of LeBron James and I've always been a fan of the team.\n",
            "\n",
            "I've always \n",
            "been a fan of the team and I've always been a fan of the team. I've always been a fan of the team and \n",
            "I've always been a fan of the team. I've always been a fan of the team and I've always been a fan of \n",
            "the team. I've always been a fan of the team and I've always been a fan of the team. I've always been \n",
            "a fan of the team and I"
          ]
        }
      ],
      "source": [
        "from transformers import TextIteratorStreamer\n",
        "from threading import Thread\n",
        "text_streamer = TextIteratorStreamer(tokenizer)\n",
        "import textwrap\n",
        "max_print_width = 100\n",
        "\n",
        "inputs = tokenizer(\n",
        "[\n",
        "    \"Topic: [lebron james] Subreddit: [tifu]\"\n",
        "]*1, return_tensors = \"pt\").to(\"cuda\")\n",
        "\n",
        "generation_kwargs = dict(\n",
        "    inputs,\n",
        "    streamer = text_streamer,\n",
        "    max_new_tokens = 256,\n",
        "    use_cache = True,\n",
        ")\n",
        "thread = Thread(target = model.generate, kwargs = generation_kwargs)\n",
        "thread.start()\n",
        "\n",
        "\n",
        "\n",
        "length = 0\n",
        "for j, new_text in enumerate(text_streamer):\n",
        "    if j == 0:\n",
        "        wrapped_text = textwrap.wrap(new_text, width = max_print_width)\n",
        "        length = len(wrapped_text[-1])\n",
        "        wrapped_text = \"\\n\".join(wrapped_text)\n",
        "        print(wrapped_text, end = \"\")\n",
        "    else:\n",
        "        length += len(new_text)\n",
        "        if length >= max_print_width:\n",
        "            length = 0\n",
        "            print()\n",
        "        print(new_text, end = \"\")\n",
        "    pass\n",
        "pass"
      ]
    },
    {
      "cell_type": "code",
      "execution_count": null,
      "metadata": {
        "id": "WQaV0S0YwZL9"
      },
      "outputs": [],
      "source": [
        "alpaca_prompt = \"\"\"Below is an instruction that describes a task, paired with an input that provides further context. Write a response that appropriately completes the request.\n",
        "\n",
        "### Instruction:\n",
        "{}\n",
        "\n",
        "### Input:\n",
        "{}\n",
        "\n",
        "### Response:\n",
        "{}\"\"\""
      ]
    },
    {
      "cell_type": "code",
      "execution_count": null,
      "metadata": {
        "colab": {
          "base_uri": "https://localhost:8080/"
        },
        "id": "yOMZJKacwWlB",
        "outputId": "4bcaa318-0478-4c93-b393-29dc87547f60"
      },
      "outputs": [
        {
          "name": "stderr",
          "output_type": "stream",
          "text": [
            "Setting `pad_token_id` to `eos_token_id`:2 for open-end generation.\n"
          ]
        },
        {
          "data": {
            "text/plain": [
              "['<s> Below is an instruction that describes a task, paired with an input that provides further context. Write a response that appropriately completes the request.\\n\\n### Instruction:\\nGiven a Topic and a Subreddit, generate a Title and a body\\n\\n### Input:\\nTopic: [chatgpt] Subreddit: [bipolar]\\n\\n### Response:\\nTitle: [ChatGPT and Bipolar Disorder: A Comprehensive Guide]\\n\\nBody:\\n\\nBipolar disorder is a mental health condition that affects millions of people around the world. It is characterized by extreme mood swings, ranging from manic episodes of high energy and euphoria to']"
            ]
          },
          "execution_count": 18,
          "metadata": {},
          "output_type": "execute_result"
        }
      ],
      "source": [
        "# alpaca_prompt = Copied from above\n",
        "FastLanguageModel.for_inference(model) # Enable native 2x faster inference\n",
        "inputs = tokenizer(\n",
        "[\n",
        "    alpaca_prompt.format(\n",
        "        \"Given a Topic and a Subreddit, generate a Title and a body\", # instruction\n",
        "        \"Topic: [chatgpt] Subreddit: [bipolar]\", # input\n",
        "        \"Title: [\", # output - leave this blank for generation!\n",
        "    )\n",
        "], return_tensors = \"pt\").to(\"cuda\")\n",
        "\n",
        "outputs = model.generate(**inputs, max_new_tokens = 64, use_cache = True)\n",
        "tokenizer.batch_decode(outputs)"
      ]
    },
    {
      "cell_type": "code",
      "execution_count": null,
      "metadata": {
        "colab": {
          "base_uri": "https://localhost:8080/"
        },
        "id": "5G6sB6q_sXhx",
        "outputId": "bef26988-5e8d-48f4-daa8-43c6ddad32cf"
      },
      "outputs": [
        {
          "name": "stderr",
          "output_type": "stream",
          "text": [
            "Setting `pad_token_id` to `eos_token_id`:2 for open-end generation.\n"
          ]
        },
        {
          "name": "stdout",
          "output_type": "stream",
          "text": [
            "<s> Topic: [Lebron James] Subreddit:[aitah] Title: [AITAH for not wanting to go to my friend's \n",
            "wedding?] Body: [I (25M) have been friends with my friend (25M) for 10 years. We met in high school and have \n",
            "been best friends ever since. We have been through a lot together and have always been there for each \n",
            "other.\n",
            "\n",
            "Recently, my friend got engaged and is planning his wedding. He has asked me to be his best man \n",
            "and I have agreed. However, I am not excited about the wedding and I am not sure if I want to go.\n",
            "\n",
            "I \n",
            "have always been a bit of a homebody and I am not really into big parties or events. I am also not \n",
            "really into weddings and I am not sure if I want to spend my time and money on something that I am not \n",
            "really interested in.\n",
            "\n",
            "I have told my friend that I am not really excited about the wedding and I am not \n",
            "sure if I want to go. He has been understanding and has said that I don't have to go if I don't want \n",
            "to.\n",
            "\n",
            "I am not sure if I am the asshole for not wanting to go to my friend's wedding. I don't want"
          ]
        }
      ],
      "source": [
        "from transformers import TextIteratorStreamer\n",
        "from threading import Thread\n",
        "text_streamer = TextIteratorStreamer(tokenizer)\n",
        "import textwrap\n",
        "max_print_width = 100\n",
        "\n",
        "inputs = tokenizer(\n",
        "[\n",
        "    \"Topic: [Lebron James] Subreddit: [aitah]\"\n",
        "]*1, return_tensors = \"pt\").to(\"cuda\")\n",
        "\n",
        "generation_kwargs = dict(\n",
        "    inputs,\n",
        "    streamer = text_streamer,\n",
        "    max_new_tokens = 256,\n",
        "    use_cache = True,\n",
        ")\n",
        "thread = Thread(target = model.generate, kwargs = generation_kwargs)\n",
        "thread.start()\n",
        "\n",
        "\n",
        "\n",
        "length = 0\n",
        "for j, new_text in enumerate(text_streamer):\n",
        "    if j == 0:\n",
        "        wrapped_text = textwrap.wrap(new_text, width = max_print_width)\n",
        "        length = len(wrapped_text[-1])\n",
        "        wrapped_text = \"\\n\".join(wrapped_text)\n",
        "        print(wrapped_text, end = \"\")\n",
        "    else:\n",
        "        length += len(new_text)\n",
        "        if length >= max_print_width:\n",
        "            length = 0\n",
        "            print()\n",
        "        print(new_text, end = \"\")\n",
        "    pass\n",
        "pass"
      ]
    },
    {
      "cell_type": "code",
      "execution_count": null,
      "metadata": {
        "colab": {
          "base_uri": "https://localhost:8080/"
        },
        "id": "BWeIERs9px3f",
        "outputId": "dbc46cc8-ade4-4d77-d443-a67f715bf07d"
      },
      "outputs": [
        {
          "name": "stderr",
          "output_type": "stream",
          "text": [
            "Setting `pad_token_id` to `eos_token_id`:2 for open-end generation.\n"
          ]
        },
        {
          "name": "stdout",
          "output_type": "stream",
          "text": [
            "<s> Topic: [botswana] Subreddit:[ama] Title: [AMA Request: Botswana] Body: [I'm a 20 year old \n",
            "American who is currently living in Botswana. I've been here for 6 months and I'm loving it. I'm a student \n",
            "at the University of Botswana and I'm majoring in International Relations. I'm also a member of the \n",
            "Botswana National Youth Council. I'm interested in learning more about the country and its people. I'm also \n",
            "interested in learning more about the culture and the history of the country. I'm also interested in learning \n",
            "more about the economy and the politics of the country. I'm also interested in learning more about the \n",
            "education system of the country. I'm also interested in learning more about the healthcare system of the \n",
            "country. I'm also interested in learning more about the transportation system of the country. I'm also \n",
            "interested in learning more about the tourism industry of the country. I'm also interested in learning more \n",
            "about the agriculture industry of the country. I'm also interested in learning more about the mining \n",
            "industry of the country. I'm also interested in learning more about the manufacturing industry of the \n",
            "country. I'm also interested in"
          ]
        }
      ],
      "source": [
        "from transformers import TextIteratorStreamer\n",
        "from threading import Thread\n",
        "text_streamer = TextIteratorStreamer(tokenizer)\n",
        "import textwrap\n",
        "max_print_width = 100\n",
        "\n",
        "inputs = tokenizer(\n",
        "[\n",
        "    \"Topic: [botswana] Subreddit: [ama]\"\n",
        "]*1, return_tensors = \"pt\").to(\"cuda\")\n",
        "\n",
        "generation_kwargs = dict(\n",
        "    inputs,\n",
        "    streamer = text_streamer,\n",
        "    max_new_tokens = 256,\n",
        "    use_cache = True,\n",
        ")\n",
        "thread = Thread(target = model.generate, kwargs = generation_kwargs)\n",
        "thread.start()\n",
        "\n",
        "\n",
        "\n",
        "length = 0\n",
        "for j, new_text in enumerate(text_streamer):\n",
        "    if j == 0:\n",
        "        wrapped_text = textwrap.wrap(new_text, width = max_print_width)\n",
        "        length = len(wrapped_text[-1])\n",
        "        wrapped_text = \"\\n\".join(wrapped_text)\n",
        "        print(wrapped_text, end = \"\")\n",
        "    else:\n",
        "        length += len(new_text)\n",
        "        if length >= max_print_width:\n",
        "            length = 0\n",
        "            print()\n",
        "        print(new_text, end = \"\")\n",
        "    pass\n",
        "pass"
      ]
    },
    {
      "cell_type": "code",
      "execution_count": null,
      "metadata": {
        "colab": {
          "base_uri": "https://localhost:8080/"
        },
        "id": "tsf-HPIvTYen",
        "outputId": "f311324c-ee91-4ffd-cebe-60875bc497b7"
      },
      "outputs": [
        {
          "name": "stderr",
          "output_type": "stream",
          "text": [
            "Setting `pad_token_id` to `eos_token_id`:2 for open-end generation.\n"
          ]
        },
        {
          "name": "stdout",
          "output_type": "stream",
          "text": [
            "<s> Topic: [lebron] Subreddit:[tifu] Title: [Tifu by not being a lebron fan] Body: [I'm a huge \n",
            "basketball fan and I've been following the NBA for a long time. I've always been a fan of the Cleveland \n",
            "Cavaliers and I've always been a fan of LeBron James. I've always been a fan of the Cavs and I've always \n",
            "been a fan of LeBron James. I've always been a fan of the Cavs and I've always been a fan of LeBron \n",
            "James. I've always been a fan of the Cavs and I've always been a fan of LeBron James. I've always been a \n",
            "fan of the Cavs and I've always been a fan of LeBron James. I've always been a fan of the Cavs and \n",
            "I've always been a fan of LeBron James. I've always been a fan of the Cavs and I've always been a fan \n",
            "of LeBron James. I've always been a fan of the Cavs and I've always been a fan of LeBron James. I've \n",
            "always been a fan of the Cavs and I've always"
          ]
        }
      ],
      "source": [
        "from transformers import TextIteratorStreamer\n",
        "from threading import Thread\n",
        "text_streamer = TextIteratorStreamer(tokenizer)\n",
        "import textwrap\n",
        "max_print_width = 100\n",
        "\n",
        "inputs = tokenizer(\n",
        "[\n",
        "    \"Topic: [lebron] Subreddit: [tifu]\"\n",
        "]*1, return_tensors = \"pt\").to(\"cuda\")\n",
        "\n",
        "generation_kwargs = dict(\n",
        "    inputs,\n",
        "    streamer = text_streamer,\n",
        "    max_new_tokens = 256,\n",
        "    use_cache = True,\n",
        ")\n",
        "thread = Thread(target = model.generate, kwargs = generation_kwargs)\n",
        "thread.start()\n",
        "\n",
        "\n",
        "\n",
        "length = 0\n",
        "for j, new_text in enumerate(text_streamer):\n",
        "    if j == 0:\n",
        "        wrapped_text = textwrap.wrap(new_text, width = max_print_width)\n",
        "        length = len(wrapped_text[-1])\n",
        "        wrapped_text = \"\\n\".join(wrapped_text)\n",
        "        print(wrapped_text, end = \"\")\n",
        "    else:\n",
        "        length += len(new_text)\n",
        "        if length >= max_print_width:\n",
        "            length = 0\n",
        "            print()\n",
        "        print(new_text, end = \"\")\n",
        "    pass\n",
        "pass"
      ]
    },
    {
      "cell_type": "code",
      "execution_count": null,
      "metadata": {
        "colab": {
          "base_uri": "https://localhost:8080/"
        },
        "id": "VIjCNCInVEgY",
        "outputId": "bbc3a384-4ccd-4a64-da26-f5b9c53e9aeb"
      },
      "outputs": [
        {
          "name": "stderr",
          "output_type": "stream",
          "text": [
            "Setting `pad_token_id` to `eos_token_id`:2 for open-end generation.\n"
          ]
        },
        {
          "name": "stdout",
          "output_type": "stream",
          "text": [
            "<s> Topic: [lebron] Subreddit:[bipolar] Title: [I’m a 20 year old male and I’m bipolar. I’m also a \n",
            "huge basketball fan and I’m a die hard lebron fan. I’m also a huge lebron fan. I’m also a huge lebron \n",
            "fan. I’m also a huge lebron fan. I’m also a huge lebron fan. I’m also a huge lebron fan. I’m also a \n",
            "huge lebron fan. I’m also a huge lebron fan. I’m also a huge lebron fan. I’m also a huge lebron fan. \n",
            "I’m also a huge lebron fan. I’m also a huge lebron fan. I’m also a huge lebron fan. I’m also a huge \n",
            "lebron fan. I’m also a huge lebron fan. I’m also a huge lebron fan. I’m also a huge lebron fan. I’m also \n",
            "a huge lebron fan. I’m also a huge lebron fan. I’m also a huge lebron fan. I’m also a huge"
          ]
        }
      ],
      "source": [
        "from transformers import TextIteratorStreamer\n",
        "from threading import Thread\n",
        "text_streamer = TextIteratorStreamer(tokenizer)\n",
        "import textwrap\n",
        "max_print_width = 100\n",
        "\n",
        "inputs = tokenizer(\n",
        "[\n",
        "    \"Topic: [lebron] Subreddit: [bipolar]\"\n",
        "]*1, return_tensors = \"pt\").to(\"cuda\")\n",
        "\n",
        "generation_kwargs = dict(\n",
        "    inputs,\n",
        "    streamer = text_streamer,\n",
        "    max_new_tokens = 256,\n",
        "    use_cache = True,\n",
        ")\n",
        "thread = Thread(target = model.generate, kwargs = generation_kwargs)\n",
        "thread.start()\n",
        "\n",
        "\n",
        "\n",
        "length = 0\n",
        "for j, new_text in enumerate(text_streamer):\n",
        "    if j == 0:\n",
        "        wrapped_text = textwrap.wrap(new_text, width = max_print_width)\n",
        "        length = len(wrapped_text[-1])\n",
        "        wrapped_text = \"\\n\".join(wrapped_text)\n",
        "        print(wrapped_text, end = \"\")\n",
        "    else:\n",
        "        length += len(new_text)\n",
        "        if length >= max_print_width:\n",
        "            length = 0\n",
        "            print()\n",
        "        print(new_text, end = \"\")\n",
        "    pass\n",
        "pass"
      ]
    },
    {
      "cell_type": "code",
      "execution_count": null,
      "metadata": {
        "colab": {
          "base_uri": "https://localhost:8080/"
        },
        "id": "6j6higYVvcJc",
        "outputId": "9f07583e-e362-4457-e98f-8ea777a9a57d"
      },
      "outputs": [
        {
          "name": "stderr",
          "output_type": "stream",
          "text": [
            "Setting `pad_token_id` to `eos_token_id`:2 for open-end generation.\n"
          ]
        },
        {
          "name": "stdout",
          "output_type": "stream",
          "text": [
            "<s> Topic: [lebron james] Subreddit:[nosleep] Title: [I’m a 12 year old girl who has been \n",
            "kidnapped by LeBron James] Body: [I’m a 12 year old girl who has been kidnapped by LeBron James. I’m not \n",
            "sure how long I’ve been here, but it’s been a while. He keeps me in a small room with no windows and \n",
            "only a bed and a toilet. He comes in every day and forces me to watch him play basketball. He’s really \n",
            "good, but I don’t understand why he’s doing this to me. I’m scared and I don’t know what to do. I just \n",
            "want to go home.]</s>"
          ]
        }
      ],
      "source": [
        "from transformers import TextIteratorStreamer\n",
        "from threading import Thread\n",
        "text_streamer = TextIteratorStreamer(tokenizer)\n",
        "import textwrap\n",
        "max_print_width = 100\n",
        "\n",
        "inputs = tokenizer(\n",
        "[\n",
        "    \"Topic: [lebron james] Subreddit: [nosleep]\"\n",
        "]*1, return_tensors = \"pt\").to(\"cuda\")\n",
        "\n",
        "generation_kwargs = dict(\n",
        "    inputs,\n",
        "    streamer = text_streamer,\n",
        "    max_new_tokens = 256,\n",
        "    use_cache = True,\n",
        ")\n",
        "thread = Thread(target = model.generate, kwargs = generation_kwargs)\n",
        "thread.start()\n",
        "\n",
        "\n",
        "\n",
        "length = 0\n",
        "for j, new_text in enumerate(text_streamer):\n",
        "    if j == 0:\n",
        "        wrapped_text = textwrap.wrap(new_text, width = max_print_width)\n",
        "        length = len(wrapped_text[-1])\n",
        "        wrapped_text = \"\\n\".join(wrapped_text)\n",
        "        print(wrapped_text, end = \"\")\n",
        "    else:\n",
        "        length += len(new_text)\n",
        "        if length >= max_print_width:\n",
        "            length = 0\n",
        "            print()\n",
        "        print(new_text, end = \"\")\n",
        "    pass\n",
        "pass"
      ]
    },
    {
      "cell_type": "code",
      "execution_count": null,
      "metadata": {
        "colab": {
          "base_uri": "https://localhost:8080/"
        },
        "id": "SeYcQfTgyCsL",
        "outputId": "09492528-b139-4a3c-f7ab-703379550209"
      },
      "outputs": [
        {
          "name": "stderr",
          "output_type": "stream",
          "text": [
            "Setting `pad_token_id` to `eos_token_id`:2 for open-end generation.\n"
          ]
        },
        {
          "name": "stdout",
          "output_type": "stream",
          "text": [
            "<s> Topic: [Botswana] Subreddit: [nosleep] Title:[I’m a 20 year old girl who has been living in a \n",
            "cave for the past 10 years] Body: [I’m a 20 year old girl who has been living in a cave for the past 10 \n",
            "years. I was born in a small village in Botswana and my parents were farmers. When I was 10 years old, my \n",
            "parents were killed in a car accident and I was left to fend for myself. I didn’t know what to do, so I \n",
            "decided to live in a cave. I found a small cave near my village and I made it my home. I lived there for \n",
            "the next 10 years. I didn’t have any contact with the outside world and I didn’t know anything about \n",
            "the world outside of my cave. I was completely isolated from the rest of the world. I didn’t have any \n",
            "friends or family and I was completely alone. I didn’t know anything about the world outside of my cave. I \n",
            "didn’t know anything about the world outside of my cave. I didn’t know anything about the world outside \n",
            "of my cave. I didn’t know anything about the world outside of my cave. I didn’t know anything about"
          ]
        }
      ],
      "source": [
        "from transformers import TextIteratorStreamer\n",
        "from threading import Thread\n",
        "text_streamer = TextIteratorStreamer(tokenizer)\n",
        "import textwrap\n",
        "max_print_width = 100\n",
        "\n",
        "inputs = tokenizer(\n",
        "[\n",
        "    \"Topic: [sour patch kids] Subreddit: [qanoncasualties] Title: [\"\n",
        "]*1, return_tensors = \"pt\").to(\"cuda\")\n",
        "\n",
        "generation_kwargs = dict(\n",
        "    inputs,\n",
        "    streamer = text_streamer,\n",
        "    max_new_tokens = 256,\n",
        "    temperature = 0.7,  # Lower temperature makes the output less random\n",
        "    top_k = 40,\n",
        "    use_cache = True,\n",
        ")\n",
        "\n",
        "thread = Thread(target = model.generate, kwargs = generation_kwargs)\n",
        "thread.start()\n",
        "\n",
        "\n",
        "\n",
        "length = 0\n",
        "for j, new_text in enumerate(text_streamer):\n",
        "    if j == 0:\n",
        "        wrapped_text = textwrap.wrap(new_text, width = max_print_width)\n",
        "        length = len(wrapped_text[-1])\n",
        "        wrapped_text = \"\\n\".join(wrapped_text)\n",
        "        print(wrapped_text, end = \"\")\n",
        "    else:\n",
        "        length += len(new_text)\n",
        "        if length >= max_print_width:\n",
        "            length = 0\n",
        "            print()\n",
        "        print(new_text, end = \"\")\n",
        "    pass\n",
        "pass"
      ]
    },
    {
      "cell_type": "code",
      "execution_count": null,
      "metadata": {
        "colab": {
          "base_uri": "https://localhost:8080/"
        },
        "id": "0BLZ3Q_lBEEJ",
        "outputId": "dcea3876-6665-4e43-89c4-627a2180651f"
      },
      "outputs": [
        {
          "name": "stderr",
          "output_type": "stream",
          "text": [
            "Setting `pad_token_id` to `eos_token_id`:2 for open-end generation.\n"
          ]
        },
        {
          "name": "stdout",
          "output_type": "stream",
          "text": [
            "<s> Topic: [lebron] Subreddit: [bipolar] Title:[Ibr\n",
            " Body:\n",
            "\n",
            "\n",
            "\n",
            "\n",
            "\n",
            "\n",
            "\n",
            "\n",
            "\n",
            "\n",
            "\n",
            "\n",
            "\n",
            "\n",
            "\n",
            "\n",
            "﻿ bekannt, dass ich ein \n",
            "schlechter Schüler war.\n",
            "\n",
            "\n",
            "\n",
            "\n",
            "\n",
            "\n",
            "\n",
            "\n",
            "\n",
            "\n",
            "\n",
            "\n",
            "\n",
            "\n",
            "\n",
            "\n",
            "\n",
            "\n",
            "\n",
            "\n",
            "\n",
            "\n",
            "\n",
            "\n",
            "\n",
            "\n",
            "\n",
            "\n",
            "\n",
            "\n",
            "\n",
            "\n",
            "\n",
            "\n",
            "\n",
            "\n",
            "\n",
            "\n",
            "\n",
            "\n",
            "\n",
            "\n",
            "\n",
            "\n",
            "\n",
            "\n",
            "\n",
            "\n",
            "\n",
            "\n",
            "\n",
            "\n",
            "\n",
            "\n",
            "\n",
            "\n",
            "\n",
            "\n",
            "\n",
            "\n",
            "\n",
            "\n",
            "\n",
            "\n",
            "\n",
            "\n",
            "\n",
            "\n",
            "\n",
            "\n",
            "\n",
            "\n",
            "\n",
            "\n",
            "\n",
            "\n",
            "\n",
            "\n",
            "\n",
            "\n",
            "\n",
            "\n",
            "\n",
            "\n",
            "\n",
            "\n",
            "\n",
            "\n",
            "\n",
            "\n",
            "\n",
            "\n",
            "\n",
            "\n",
            "\n",
            "\n",
            "\n",
            "\n",
            "\n",
            "\n",
            "\n",
            "\n",
            "\n",
            "\n",
            "\n",
            "\n",
            "\n",
            "\n",
            "\n",
            "\n",
            "\n",
            "\n",
            "\n",
            "\n",
            "\n",
            "\n",
            "\n",
            "\n",
            "\n",
            "\n",
            "\n",
            "\n",
            "\n",
            "\n",
            "\n",
            "\n",
            "\n",
            "\n",
            "\n",
            "\n",
            "\n",
            "\n",
            "\n",
            "\n",
            "\n",
            "\n",
            "\n",
            "\n",
            "\n",
            "\n",
            "\n",
            "\n",
            "\n",
            "\n",
            "\n",
            "\n",
            "\n",
            "\n",
            "\n",
            "\n",
            "\n",
            "\n",
            "\n",
            "\n",
            "\n",
            "\n",
            "\n",
            "\n",
            "\n",
            "\n",
            "\n",
            "\n",
            "\n",
            "\n",
            "\n",
            "\n",
            "\n",
            "\n",
            "\n",
            "\n",
            "\n",
            "\n",
            "\n",
            "\n",
            "\n",
            "\n",
            "\n",
            "\n",
            "\n",
            "\n",
            "\n",
            "\n",
            "\n",
            "\n",
            "\n",
            "\n",
            "\n",
            "\n",
            "\n",
            "\n",
            "\n",
            "\n",
            "\n",
            "\n",
            "\n",
            "\n",
            "\n",
            "\n",
            "\n",
            "\n",
            "\n",
            "\n",
            "\n",
            "\n",
            "\n",
            "\n",
            "\n",
            "\n",
            "\n",
            "\n",
            "\n",
            "\n",
            "\n",
            "\n",
            "\n",
            "\n",
            "\n",
            "\n",
            "\n"
          ]
        }
      ],
      "source": [
        "from transformers import TextIteratorStreamer\n",
        "from threading import Thread\n",
        "text_streamer = TextIteratorStreamer(tokenizer)\n",
        "import textwrap\n",
        "max_print_width = 100\n",
        "\n",
        "inputs = tokenizer(\n",
        "[\n",
        "    \"Topic: [lebron] Subreddit: [bipolar] Title: [\"\n",
        "]*1, return_tensors = \"pt\").to(\"cuda\")\n",
        "\n",
        "generation_kwargs = dict(\n",
        "    inputs,\n",
        "    streamer = text_streamer,\n",
        "    max_new_tokens = 256,\n",
        "    temperature = 0.7,  # Lower temperature makes the output less random\n",
        "    top_k = 40,\n",
        "    use_cache = True,\n",
        ")\n",
        "\n",
        "thread = Thread(target = model.generate, kwargs = generation_kwargs)\n",
        "thread.start()\n",
        "\n",
        "\n",
        "\n",
        "length = 0\n",
        "for j, new_text in enumerate(text_streamer):\n",
        "    if j == 0:\n",
        "        wrapped_text = textwrap.wrap(new_text, width = max_print_width)\n",
        "        length = len(wrapped_text[-1])\n",
        "        wrapped_text = \"\\n\".join(wrapped_text)\n",
        "        print(wrapped_text, end = \"\")\n",
        "    else:\n",
        "        length += len(new_text)\n",
        "        if length >= max_print_width:\n",
        "            length = 0\n",
        "            print()\n",
        "        print(new_text, end = \"\")\n",
        "    pass\n",
        "pass"
      ]
    },
    {
      "cell_type": "code",
      "execution_count": null,
      "metadata": {
        "id": "g16pnjz4CCwY"
      },
      "outputs": [],
      "source": [
        "from transformers import TextIteratorStreamer\n",
        "from threading import Thread\n",
        "text_streamer = TextIteratorStreamer(tokenizer)\n",
        "import textwrap\n",
        "max_print_width = 100\n",
        "\n",
        "inputs = tokenizer(\n",
        "[\n",
        "    \"Topic: [sour patch kids] Subreddit: [qanoncasualties] Title: [\"\n",
        "]*1, return_tensors = \"pt\").to(\"cuda\")\n",
        "\n",
        "generation_kwargs = dict(\n",
        "    inputs,\n",
        "    streamer = text_streamer,\n",
        "    max_new_tokens = 256,\n",
        "    temperature = 0.7,  # Lower temperature makes the output less random\n",
        "    top_k = 40,\n",
        "    use_cache = True,\n",
        ")\n",
        "\n",
        "thread = Thread(target = model.generate, kwargs = generation_kwargs)\n",
        "thread.start()\n",
        "\n",
        "\n",
        "\n",
        "length = 0\n",
        "for j, new_text in enumerate(text_streamer):\n",
        "    if j == 0:\n",
        "        wrapped_text = textwrap.wrap(new_text, width = max_print_width)\n",
        "        length = len(wrapped_text[-1])\n",
        "        wrapped_text = \"\\n\".join(wrapped_text)\n",
        "        print(wrapped_text, end = \"\")\n",
        "    else:\n",
        "        length += len(new_text)\n",
        "        if length >= max_print_width:\n",
        "            length = 0\n",
        "            print()\n",
        "        print(new_text, end = \"\")\n",
        "    pass\n",
        "pass"
      ]
    },
    {
      "cell_type": "code",
      "execution_count": null,
      "metadata": {
        "colab": {
          "base_uri": "https://localhost:8080/"
        },
        "id": "FgNIdWOJBdMx",
        "outputId": "8c890fd6-20da-4eec-e46f-1849680fbb0b"
      },
      "outputs": [
        {
          "name": "stderr",
          "output_type": "stream",
          "text": [
            "Setting `pad_token_id` to `eos_token_id`:2 for open-end generation.\n"
          ]
        },
        {
          "name": "stdout",
          "output_type": "stream",
          "text": [
            "<s> Topic: [botswana] Subreddit: [aitah] Title:[AITAH for not wanting to go to my friend's \n",
            "wedding?] Body: [I (22F) have a friend (22F) who I've known since we were 12. We've been through a lot \n",
            "together and I consider her one of my best friends. She's getting married in a few months and I'm not sure \n",
            "if I want to go.\n",
            "\n",
            "My friend is getting married to a man (25M) who I've met a few times. He's a nice \n",
            "guy, but I don't really know him that well. I'm not sure if I want to go to the wedding because I'm not \n",
            "really close with him.\n",
            "\n",
            "My friend has been asking me to be in her bridal party, but I'm not sure if I \n",
            "want to do that either. I don't really know the other people in the bridal party and I'm not sure if I \n",
            "want to be in a wedding party with people I don't know that well.\n",
            "\n",
            "I'm not sure what to do. I don't \n",
            "want to hurt my friend's feelings, but I'm not sure if I want to go to the wedding"
          ]
        }
      ],
      "source": [
        "from transformers import TextIteratorStreamer\n",
        "from threading import Thread\n",
        "text_streamer = TextIteratorStreamer(tokenizer)\n",
        "import textwrap\n",
        "max_print_width = 100\n",
        "\n",
        "inputs = tokenizer(\n",
        "[\n",
        "    \"Topic: [botswana] Subreddit: [aitah] Title: [\"\n",
        "]*1, return_tensors = \"pt\").to(\"cuda\")\n",
        "\n",
        "generation_kwargs = dict(\n",
        "    inputs,\n",
        "    streamer = text_streamer,\n",
        "    max_new_tokens = 256,\n",
        "    temperature = 0.9,  # Lower temperature makes the output less random\n",
        "    top_k = 40,\n",
        "    use_cache = True,\n",
        ")\n",
        "\n",
        "thread = Thread(target = model.generate, kwargs = generation_kwargs)\n",
        "thread.start()\n",
        "\n",
        "\n",
        "\n",
        "length = 0\n",
        "for j, new_text in enumerate(text_streamer):\n",
        "    if j == 0:\n",
        "        wrapped_text = textwrap.wrap(new_text, width = max_print_width)\n",
        "        length = len(wrapped_text[-1])\n",
        "        wrapped_text = \"\\n\".join(wrapped_text)\n",
        "        print(wrapped_text, end = \"\")\n",
        "    else:\n",
        "        length += len(new_text)\n",
        "        if length >= max_print_width:\n",
        "            length = 0\n",
        "            print()\n",
        "        print(new_text, end = \"\")\n",
        "    pass\n",
        "pass"
      ]
    },
    {
      "cell_type": "code",
      "execution_count": null,
      "metadata": {
        "colab": {
          "base_uri": "https://localhost:8080/"
        },
        "id": "u4yurxypCX4i",
        "outputId": "73a85e40-0a4a-4b44-bbae-8bae595fa2d9"
      },
      "outputs": [
        {
          "name": "stderr",
          "output_type": "stream",
          "text": [
            "Setting `pad_token_id` to `eos_token_id`:2 for open-end generation.\n"
          ]
        },
        {
          "name": "stdout",
          "output_type": "stream",
          "text": [
            "<s> Topic: [botswana] Subreddit: [aitah] Title:[AITAH for not wanting to go to my friend's \n",
            "wedding?] Body: [I (22F) have a friend (22F) who I've known since we were 12. We've been through a lot \n",
            "together and I consider her one of my best friends. She's getting married in a few months and I'm not sure \n",
            "if I want to go.\n",
            "\n",
            "My friend is getting married to a man (25M) who I've met a few times. He's a nice \n",
            "guy, but I don't really know him that well. I'm not sure if I want to go to the wedding because I'm not \n",
            "really close with him.\n",
            "\n",
            "My friend has been asking me to be in her bridal party, but I'm not sure if I \n",
            "want to do that either. I don't really know the other people in the bridal party and I'm not sure if I \n",
            "want to be in a wedding party with people I don't know that well.\n",
            "\n",
            "I'm not sure what to do. I don't \n",
            "want to hurt my friend's feelings, but I'm not sure if I want to go to the wedding"
          ]
        }
      ],
      "source": [
        "from transformers import TextIteratorStreamer\n",
        "from threading import Thread\n",
        "text_streamer = TextIteratorStreamer(tokenizer)\n",
        "import textwrap\n",
        "max_print_width = 100\n",
        "\n",
        "inputs = tokenizer(\n",
        "[\n",
        "    \"Topic: [botswana] Subreddit: [aitah] Title: [\"\n",
        "]*1, return_tensors = \"pt\").to(\"cuda\")\n",
        "\n",
        "generation_kwargs = dict(\n",
        "    inputs,\n",
        "    streamer = text_streamer,\n",
        "    max_new_tokens = 256,\n",
        "    temperature = 0.7,  # Lower temperature makes the output less random\n",
        "    top_k = 10,\n",
        "    use_cache = True,\n",
        ")\n",
        "\n",
        "thread = Thread(target = model.generate, kwargs = generation_kwargs)\n",
        "thread.start()\n",
        "\n",
        "\n",
        "\n",
        "length = 0\n",
        "for j, new_text in enumerate(text_streamer):\n",
        "    if j == 0:\n",
        "        wrapped_text = textwrap.wrap(new_text, width = max_print_width)\n",
        "        length = len(wrapped_text[-1])\n",
        "        wrapped_text = \"\\n\".join(wrapped_text)\n",
        "        print(wrapped_text, end = \"\")\n",
        "    else:\n",
        "        length += len(new_text)\n",
        "        if length >= max_print_width:\n",
        "            length = 0\n",
        "            print()\n",
        "        print(new_text, end = \"\")\n",
        "    pass\n",
        "pass"
      ]
    },
    {
      "cell_type": "code",
      "execution_count": null,
      "metadata": {
        "colab": {
          "base_uri": "https://localhost:8080/",
          "height": 160,
          "referenced_widgets": [
            "e8432a2e332a4f598875400c78a3875f",
            "bb2891c7b5584855a4bbb12c965fa34a",
            "cd268b3f509a457f9af7b24929a3aaed",
            "b4f22812cf3246699cd9642cf5305751",
            "3854ec39aedd49cdbc8c7e16c0fd7ced",
            "38fdd40523b44f5bbfd0dcb2a4898d78",
            "f456ee61a67f4225bca45dfd181c313a",
            "211427150af34be5a4e362722bdc9b9b",
            "a6a3ed9895994eeba07c58e75b7d82e2",
            "226864de21d74fc49d8bda60508d7d36",
            "78ebc3e621154059a30612f3a03b782d"
          ]
        },
        "id": "OSwXgU_X04JV",
        "outputId": "ae125d1a-7751-46b7-c733-b8fa15d74bae"
      },
      "outputs": [
        {
          "name": "stderr",
          "output_type": "stream",
          "text": [
            "/usr/local/lib/python3.10/dist-packages/multiprocess/popen_fork.py:66: RuntimeWarning: os.fork() was called. os.fork() is incompatible with multithreaded code, and JAX is multithreaded, so this will likely lead to a deadlock.\n",
            "  self.pid = os.fork()\n"
          ]
        },
        {
          "data": {
            "application/vnd.jupyter.widget-view+json": {
              "model_id": "e8432a2e332a4f598875400c78a3875f",
              "version_major": 2,
              "version_minor": 0
            },
            "text/plain": [
              "Map (num_proc=2):   0%|          | 0/7250 [00:00<?, ? examples/s]"
            ]
          },
          "metadata": {},
          "output_type": "display_data"
        },
        {
          "name": "stderr",
          "output_type": "stream",
          "text": [
            "/usr/local/lib/python3.10/dist-packages/trl/trainer/sft_trainer.py:318: UserWarning: You passed a tokenizer with `padding_side` not equal to `right` to the SFTTrainer. This might lead to some unexpected behaviour due to overflow issues when training a model in half-precision. You might consider adding `tokenizer.padding_side = 'right'` to your code.\n",
            "  warnings.warn(\n",
            "max_steps is given, it will override any value given in num_train_epochs\n"
          ]
        }
      ],
      "source": [
        "from trl import SFTTrainer\n",
        "from transformers import TrainingArguments\n",
        "\n",
        "trainer = SFTTrainer(\n",
        "    model = model,\n",
        "    tokenizer = tokenizer,\n",
        "    train_dataset = dataset,\n",
        "    dataset_text_field = \"text\",\n",
        "    max_seq_length = max_seq_length,\n",
        "    dataset_num_proc = 2,\n",
        "    packing = False, # Can make training 5x faster for short sequences.\n",
        "    args = TrainingArguments(\n",
        "        per_device_train_batch_size = 2,\n",
        "        gradient_accumulation_steps = 4,\n",
        "        warmup_steps = 10,\n",
        "        max_steps = 60, # Set num_train_epochs = 1 for full training runs\n",
        "        learning_rate = 2e-4,\n",
        "        fp16 = not torch.cuda.is_bf16_supported(),\n",
        "        bf16 = torch.cuda.is_bf16_supported(),\n",
        "        logging_steps = 1,\n",
        "        optim = \"adamw_8bit\",\n",
        "        weight_decay = 0.01,\n",
        "        lr_scheduler_type = \"linear\",\n",
        "        seed = 3407,\n",
        "        output_dir = \"outputs\",\n",
        "    ),\n",
        ")"
      ]
    },
    {
      "cell_type": "code",
      "execution_count": null,
      "metadata": {
        "id": "ezcKBC6M1NG5"
      },
      "outputs": [],
      "source": [
        "alpaca_prompt = \"\"\"Below is an instruction that describes a task, paired with an input that provides further context. Write a response that appropriately completes the request.\n",
        "\n",
        "### Instruction:\n",
        "{}\n",
        "\n",
        "### Input:\n",
        "{}\n",
        "\n",
        "### Response:\n",
        "{}\"\"\"\n",
        "\n",
        "\n",
        "EOS_TOKEN = tokenizer.eos_token # Must add EOS_TOKEN\n",
        "def formatting_prompts_func(examples):\n",
        "    instructions = examples[\"instruction\"]\n",
        "    inputs       = examples[\"input\"]\n",
        "    outputs      = examples[\"output\"]\n",
        "    texts = []\n",
        "    for instruction, input, output in zip(instructions, inputs, outputs):\n",
        "        # Must add EOS_TOKEN, otherwise your generation will go on forever!\n",
        "        text = alpaca_prompt.format(instruction, input, output) + EOS_TOKEN\n",
        "        texts.append(text)\n",
        "    return { \"text\" : texts, }\n",
        "pass\n",
        "\n",
        "from datasets import load_dataset\n",
        "dataset = load_dataset(\"yahma/alpaca-cleaned\", split = \"train\")\n",
        "dataset = dataset.map(formatting_prompts_func, batched = True,)"
      ]
    }
  ],
  "metadata": {
    "accelerator": "GPU",
    "colab": {
      "gpuType": "T4",
      "provenance": []
    },
    "kernelspec": {
      "display_name": "Python 3",
      "name": "python3"
    },
    "language_info": {
      "name": "python"
    },
    "widgets": {
      "application/vnd.jupyter.widget-state+json": {
        "02a8ea80079b4d44b1fe410dda362c01": {
          "model_module": "@jupyter-widgets/base",
          "model_module_version": "1.2.0",
          "model_name": "LayoutModel",
          "state": {
            "_model_module": "@jupyter-widgets/base",
            "_model_module_version": "1.2.0",
            "_model_name": "LayoutModel",
            "_view_count": null,
            "_view_module": "@jupyter-widgets/base",
            "_view_module_version": "1.2.0",
            "_view_name": "LayoutView",
            "align_content": null,
            "align_items": null,
            "align_self": null,
            "border": null,
            "bottom": null,
            "display": null,
            "flex": null,
            "flex_flow": null,
            "grid_area": null,
            "grid_auto_columns": null,
            "grid_auto_flow": null,
            "grid_auto_rows": null,
            "grid_column": null,
            "grid_gap": null,
            "grid_row": null,
            "grid_template_areas": null,
            "grid_template_columns": null,
            "grid_template_rows": null,
            "height": null,
            "justify_content": null,
            "justify_items": null,
            "left": null,
            "margin": null,
            "max_height": null,
            "max_width": null,
            "min_height": null,
            "min_width": null,
            "object_fit": null,
            "object_position": null,
            "order": null,
            "overflow": null,
            "overflow_x": null,
            "overflow_y": null,
            "padding": null,
            "right": null,
            "top": null,
            "visibility": null,
            "width": "20px"
          }
        },
        "211427150af34be5a4e362722bdc9b9b": {
          "model_module": "@jupyter-widgets/base",
          "model_module_version": "1.2.0",
          "model_name": "LayoutModel",
          "state": {
            "_model_module": "@jupyter-widgets/base",
            "_model_module_version": "1.2.0",
            "_model_name": "LayoutModel",
            "_view_count": null,
            "_view_module": "@jupyter-widgets/base",
            "_view_module_version": "1.2.0",
            "_view_name": "LayoutView",
            "align_content": null,
            "align_items": null,
            "align_self": null,
            "border": null,
            "bottom": null,
            "display": null,
            "flex": null,
            "flex_flow": null,
            "grid_area": null,
            "grid_auto_columns": null,
            "grid_auto_flow": null,
            "grid_auto_rows": null,
            "grid_column": null,
            "grid_gap": null,
            "grid_row": null,
            "grid_template_areas": null,
            "grid_template_columns": null,
            "grid_template_rows": null,
            "height": null,
            "justify_content": null,
            "justify_items": null,
            "left": null,
            "margin": null,
            "max_height": null,
            "max_width": null,
            "min_height": null,
            "min_width": null,
            "object_fit": null,
            "object_position": null,
            "order": null,
            "overflow": null,
            "overflow_x": null,
            "overflow_y": null,
            "padding": null,
            "right": null,
            "top": null,
            "visibility": null,
            "width": null
          }
        },
        "226864de21d74fc49d8bda60508d7d36": {
          "model_module": "@jupyter-widgets/base",
          "model_module_version": "1.2.0",
          "model_name": "LayoutModel",
          "state": {
            "_model_module": "@jupyter-widgets/base",
            "_model_module_version": "1.2.0",
            "_model_name": "LayoutModel",
            "_view_count": null,
            "_view_module": "@jupyter-widgets/base",
            "_view_module_version": "1.2.0",
            "_view_name": "LayoutView",
            "align_content": null,
            "align_items": null,
            "align_self": null,
            "border": null,
            "bottom": null,
            "display": null,
            "flex": null,
            "flex_flow": null,
            "grid_area": null,
            "grid_auto_columns": null,
            "grid_auto_flow": null,
            "grid_auto_rows": null,
            "grid_column": null,
            "grid_gap": null,
            "grid_row": null,
            "grid_template_areas": null,
            "grid_template_columns": null,
            "grid_template_rows": null,
            "height": null,
            "justify_content": null,
            "justify_items": null,
            "left": null,
            "margin": null,
            "max_height": null,
            "max_width": null,
            "min_height": null,
            "min_width": null,
            "object_fit": null,
            "object_position": null,
            "order": null,
            "overflow": null,
            "overflow_x": null,
            "overflow_y": null,
            "padding": null,
            "right": null,
            "top": null,
            "visibility": null,
            "width": null
          }
        },
        "3854ec39aedd49cdbc8c7e16c0fd7ced": {
          "model_module": "@jupyter-widgets/base",
          "model_module_version": "1.2.0",
          "model_name": "LayoutModel",
          "state": {
            "_model_module": "@jupyter-widgets/base",
            "_model_module_version": "1.2.0",
            "_model_name": "LayoutModel",
            "_view_count": null,
            "_view_module": "@jupyter-widgets/base",
            "_view_module_version": "1.2.0",
            "_view_name": "LayoutView",
            "align_content": null,
            "align_items": null,
            "align_self": null,
            "border": null,
            "bottom": null,
            "display": null,
            "flex": null,
            "flex_flow": null,
            "grid_area": null,
            "grid_auto_columns": null,
            "grid_auto_flow": null,
            "grid_auto_rows": null,
            "grid_column": null,
            "grid_gap": null,
            "grid_row": null,
            "grid_template_areas": null,
            "grid_template_columns": null,
            "grid_template_rows": null,
            "height": null,
            "justify_content": null,
            "justify_items": null,
            "left": null,
            "margin": null,
            "max_height": null,
            "max_width": null,
            "min_height": null,
            "min_width": null,
            "object_fit": null,
            "object_position": null,
            "order": null,
            "overflow": null,
            "overflow_x": null,
            "overflow_y": null,
            "padding": null,
            "right": null,
            "top": null,
            "visibility": null,
            "width": null
          }
        },
        "38fdd40523b44f5bbfd0dcb2a4898d78": {
          "model_module": "@jupyter-widgets/base",
          "model_module_version": "1.2.0",
          "model_name": "LayoutModel",
          "state": {
            "_model_module": "@jupyter-widgets/base",
            "_model_module_version": "1.2.0",
            "_model_name": "LayoutModel",
            "_view_count": null,
            "_view_module": "@jupyter-widgets/base",
            "_view_module_version": "1.2.0",
            "_view_name": "LayoutView",
            "align_content": null,
            "align_items": null,
            "align_self": null,
            "border": null,
            "bottom": null,
            "display": null,
            "flex": null,
            "flex_flow": null,
            "grid_area": null,
            "grid_auto_columns": null,
            "grid_auto_flow": null,
            "grid_auto_rows": null,
            "grid_column": null,
            "grid_gap": null,
            "grid_row": null,
            "grid_template_areas": null,
            "grid_template_columns": null,
            "grid_template_rows": null,
            "height": null,
            "justify_content": null,
            "justify_items": null,
            "left": null,
            "margin": null,
            "max_height": null,
            "max_width": null,
            "min_height": null,
            "min_width": null,
            "object_fit": null,
            "object_position": null,
            "order": null,
            "overflow": null,
            "overflow_x": null,
            "overflow_y": null,
            "padding": null,
            "right": null,
            "top": null,
            "visibility": null,
            "width": null
          }
        },
        "3af88b805bd441a2a02d90635a700d30": {
          "model_module": "@jupyter-widgets/base",
          "model_module_version": "1.2.0",
          "model_name": "LayoutModel",
          "state": {
            "_model_module": "@jupyter-widgets/base",
            "_model_module_version": "1.2.0",
            "_model_name": "LayoutModel",
            "_view_count": null,
            "_view_module": "@jupyter-widgets/base",
            "_view_module_version": "1.2.0",
            "_view_name": "LayoutView",
            "align_content": null,
            "align_items": null,
            "align_self": null,
            "border": null,
            "bottom": null,
            "display": null,
            "flex": null,
            "flex_flow": null,
            "grid_area": null,
            "grid_auto_columns": null,
            "grid_auto_flow": null,
            "grid_auto_rows": null,
            "grid_column": null,
            "grid_gap": null,
            "grid_row": null,
            "grid_template_areas": null,
            "grid_template_columns": null,
            "grid_template_rows": null,
            "height": null,
            "justify_content": null,
            "justify_items": null,
            "left": null,
            "margin": null,
            "max_height": null,
            "max_width": null,
            "min_height": null,
            "min_width": null,
            "object_fit": null,
            "object_position": null,
            "order": null,
            "overflow": null,
            "overflow_x": null,
            "overflow_y": null,
            "padding": null,
            "right": null,
            "top": null,
            "visibility": null,
            "width": null
          }
        },
        "48e55898b0e5438e8fb3fdf40fcfa877": {
          "model_module": "@jupyter-widgets/controls",
          "model_module_version": "1.5.0",
          "model_name": "HBoxModel",
          "state": {
            "_dom_classes": [],
            "_model_module": "@jupyter-widgets/controls",
            "_model_module_version": "1.5.0",
            "_model_name": "HBoxModel",
            "_view_count": null,
            "_view_module": "@jupyter-widgets/controls",
            "_view_module_version": "1.5.0",
            "_view_name": "HBoxView",
            "box_style": "",
            "children": [
              "IPY_MODEL_8fb2037ea86a436085f27e114dffef69",
              "IPY_MODEL_dcda840a36a842e398000d15917c784e",
              "IPY_MODEL_c7805a4dc1db4f2fa642cf2e05723ffb"
            ],
            "layout": "IPY_MODEL_b28d6213ef8747a8a6aa3d8f3a785d04"
          }
        },
        "55d72b53232049bf857012bd9bb6f750": {
          "model_module": "@jupyter-widgets/controls",
          "model_module_version": "1.5.0",
          "model_name": "DescriptionStyleModel",
          "state": {
            "_model_module": "@jupyter-widgets/controls",
            "_model_module_version": "1.5.0",
            "_model_name": "DescriptionStyleModel",
            "_view_count": null,
            "_view_module": "@jupyter-widgets/base",
            "_view_module_version": "1.2.0",
            "_view_name": "StyleView",
            "description_width": ""
          }
        },
        "624c6f9b28904728b920dff80b1dca73": {
          "model_module": "@jupyter-widgets/controls",
          "model_module_version": "1.5.0",
          "model_name": "ProgressStyleModel",
          "state": {
            "_model_module": "@jupyter-widgets/controls",
            "_model_module_version": "1.5.0",
            "_model_name": "ProgressStyleModel",
            "_view_count": null,
            "_view_module": "@jupyter-widgets/base",
            "_view_module_version": "1.2.0",
            "_view_name": "StyleView",
            "bar_color": null,
            "description_width": ""
          }
        },
        "78ebc3e621154059a30612f3a03b782d": {
          "model_module": "@jupyter-widgets/controls",
          "model_module_version": "1.5.0",
          "model_name": "DescriptionStyleModel",
          "state": {
            "_model_module": "@jupyter-widgets/controls",
            "_model_module_version": "1.5.0",
            "_model_name": "DescriptionStyleModel",
            "_view_count": null,
            "_view_module": "@jupyter-widgets/base",
            "_view_module_version": "1.2.0",
            "_view_name": "StyleView",
            "description_width": ""
          }
        },
        "869715565cb24209abf065d591ec0c54": {
          "model_module": "@jupyter-widgets/controls",
          "model_module_version": "1.5.0",
          "model_name": "DescriptionStyleModel",
          "state": {
            "_model_module": "@jupyter-widgets/controls",
            "_model_module_version": "1.5.0",
            "_model_name": "DescriptionStyleModel",
            "_view_count": null,
            "_view_module": "@jupyter-widgets/base",
            "_view_module_version": "1.2.0",
            "_view_name": "StyleView",
            "description_width": ""
          }
        },
        "8fb2037ea86a436085f27e114dffef69": {
          "model_module": "@jupyter-widgets/controls",
          "model_module_version": "1.5.0",
          "model_name": "HTMLModel",
          "state": {
            "_dom_classes": [],
            "_model_module": "@jupyter-widgets/controls",
            "_model_module_version": "1.5.0",
            "_model_name": "HTMLModel",
            "_view_count": null,
            "_view_module": "@jupyter-widgets/controls",
            "_view_module_version": "1.5.0",
            "_view_name": "HTMLView",
            "description": "",
            "description_tooltip": null,
            "layout": "IPY_MODEL_3af88b805bd441a2a02d90635a700d30",
            "placeholder": "​",
            "style": "IPY_MODEL_869715565cb24209abf065d591ec0c54",
            "value": "Generating train split: "
          }
        },
        "a6a3ed9895994eeba07c58e75b7d82e2": {
          "model_module": "@jupyter-widgets/controls",
          "model_module_version": "1.5.0",
          "model_name": "ProgressStyleModel",
          "state": {
            "_model_module": "@jupyter-widgets/controls",
            "_model_module_version": "1.5.0",
            "_model_name": "ProgressStyleModel",
            "_view_count": null,
            "_view_module": "@jupyter-widgets/base",
            "_view_module_version": "1.2.0",
            "_view_name": "StyleView",
            "bar_color": null,
            "description_width": ""
          }
        },
        "b28d6213ef8747a8a6aa3d8f3a785d04": {
          "model_module": "@jupyter-widgets/base",
          "model_module_version": "1.2.0",
          "model_name": "LayoutModel",
          "state": {
            "_model_module": "@jupyter-widgets/base",
            "_model_module_version": "1.2.0",
            "_model_name": "LayoutModel",
            "_view_count": null,
            "_view_module": "@jupyter-widgets/base",
            "_view_module_version": "1.2.0",
            "_view_name": "LayoutView",
            "align_content": null,
            "align_items": null,
            "align_self": null,
            "border": null,
            "bottom": null,
            "display": null,
            "flex": null,
            "flex_flow": null,
            "grid_area": null,
            "grid_auto_columns": null,
            "grid_auto_flow": null,
            "grid_auto_rows": null,
            "grid_column": null,
            "grid_gap": null,
            "grid_row": null,
            "grid_template_areas": null,
            "grid_template_columns": null,
            "grid_template_rows": null,
            "height": null,
            "justify_content": null,
            "justify_items": null,
            "left": null,
            "margin": null,
            "max_height": null,
            "max_width": null,
            "min_height": null,
            "min_width": null,
            "object_fit": null,
            "object_position": null,
            "order": null,
            "overflow": null,
            "overflow_x": null,
            "overflow_y": null,
            "padding": null,
            "right": null,
            "top": null,
            "visibility": null,
            "width": null
          }
        },
        "b4f22812cf3246699cd9642cf5305751": {
          "model_module": "@jupyter-widgets/controls",
          "model_module_version": "1.5.0",
          "model_name": "HTMLModel",
          "state": {
            "_dom_classes": [],
            "_model_module": "@jupyter-widgets/controls",
            "_model_module_version": "1.5.0",
            "_model_name": "HTMLModel",
            "_view_count": null,
            "_view_module": "@jupyter-widgets/controls",
            "_view_module_version": "1.5.0",
            "_view_name": "HTMLView",
            "description": "",
            "description_tooltip": null,
            "layout": "IPY_MODEL_226864de21d74fc49d8bda60508d7d36",
            "placeholder": "​",
            "style": "IPY_MODEL_78ebc3e621154059a30612f3a03b782d",
            "value": " 7250/7250 [00:19&lt;00:00, 474.31 examples/s]"
          }
        },
        "bb2891c7b5584855a4bbb12c965fa34a": {
          "model_module": "@jupyter-widgets/controls",
          "model_module_version": "1.5.0",
          "model_name": "HTMLModel",
          "state": {
            "_dom_classes": [],
            "_model_module": "@jupyter-widgets/controls",
            "_model_module_version": "1.5.0",
            "_model_name": "HTMLModel",
            "_view_count": null,
            "_view_module": "@jupyter-widgets/controls",
            "_view_module_version": "1.5.0",
            "_view_name": "HTMLView",
            "description": "",
            "description_tooltip": null,
            "layout": "IPY_MODEL_38fdd40523b44f5bbfd0dcb2a4898d78",
            "placeholder": "​",
            "style": "IPY_MODEL_f456ee61a67f4225bca45dfd181c313a",
            "value": "Map (num_proc=2): 100%"
          }
        },
        "c7805a4dc1db4f2fa642cf2e05723ffb": {
          "model_module": "@jupyter-widgets/controls",
          "model_module_version": "1.5.0",
          "model_name": "HTMLModel",
          "state": {
            "_dom_classes": [],
            "_model_module": "@jupyter-widgets/controls",
            "_model_module_version": "1.5.0",
            "_model_name": "HTMLModel",
            "_view_count": null,
            "_view_module": "@jupyter-widgets/controls",
            "_view_module_version": "1.5.0",
            "_view_name": "HTMLView",
            "description": "",
            "description_tooltip": null,
            "layout": "IPY_MODEL_f05cd6cf0fd74c898d8bbd53132ae6cc",
            "placeholder": "​",
            "style": "IPY_MODEL_55d72b53232049bf857012bd9bb6f750",
            "value": " 2109/0 [00:11&lt;00:00, 287.46 examples/s]"
          }
        },
        "cd268b3f509a457f9af7b24929a3aaed": {
          "model_module": "@jupyter-widgets/controls",
          "model_module_version": "1.5.0",
          "model_name": "FloatProgressModel",
          "state": {
            "_dom_classes": [],
            "_model_module": "@jupyter-widgets/controls",
            "_model_module_version": "1.5.0",
            "_model_name": "FloatProgressModel",
            "_view_count": null,
            "_view_module": "@jupyter-widgets/controls",
            "_view_module_version": "1.5.0",
            "_view_name": "ProgressView",
            "bar_style": "success",
            "description": "",
            "description_tooltip": null,
            "layout": "IPY_MODEL_211427150af34be5a4e362722bdc9b9b",
            "max": 7250,
            "min": 0,
            "orientation": "horizontal",
            "style": "IPY_MODEL_a6a3ed9895994eeba07c58e75b7d82e2",
            "value": 7250
          }
        },
        "dcda840a36a842e398000d15917c784e": {
          "model_module": "@jupyter-widgets/controls",
          "model_module_version": "1.5.0",
          "model_name": "FloatProgressModel",
          "state": {
            "_dom_classes": [],
            "_model_module": "@jupyter-widgets/controls",
            "_model_module_version": "1.5.0",
            "_model_name": "FloatProgressModel",
            "_view_count": null,
            "_view_module": "@jupyter-widgets/controls",
            "_view_module_version": "1.5.0",
            "_view_name": "ProgressView",
            "bar_style": "success",
            "description": "",
            "description_tooltip": null,
            "layout": "IPY_MODEL_02a8ea80079b4d44b1fe410dda362c01",
            "max": 1,
            "min": 0,
            "orientation": "horizontal",
            "style": "IPY_MODEL_624c6f9b28904728b920dff80b1dca73",
            "value": 1
          }
        },
        "e8432a2e332a4f598875400c78a3875f": {
          "model_module": "@jupyter-widgets/controls",
          "model_module_version": "1.5.0",
          "model_name": "HBoxModel",
          "state": {
            "_dom_classes": [],
            "_model_module": "@jupyter-widgets/controls",
            "_model_module_version": "1.5.0",
            "_model_name": "HBoxModel",
            "_view_count": null,
            "_view_module": "@jupyter-widgets/controls",
            "_view_module_version": "1.5.0",
            "_view_name": "HBoxView",
            "box_style": "",
            "children": [
              "IPY_MODEL_bb2891c7b5584855a4bbb12c965fa34a",
              "IPY_MODEL_cd268b3f509a457f9af7b24929a3aaed",
              "IPY_MODEL_b4f22812cf3246699cd9642cf5305751"
            ],
            "layout": "IPY_MODEL_3854ec39aedd49cdbc8c7e16c0fd7ced"
          }
        },
        "f05cd6cf0fd74c898d8bbd53132ae6cc": {
          "model_module": "@jupyter-widgets/base",
          "model_module_version": "1.2.0",
          "model_name": "LayoutModel",
          "state": {
            "_model_module": "@jupyter-widgets/base",
            "_model_module_version": "1.2.0",
            "_model_name": "LayoutModel",
            "_view_count": null,
            "_view_module": "@jupyter-widgets/base",
            "_view_module_version": "1.2.0",
            "_view_name": "LayoutView",
            "align_content": null,
            "align_items": null,
            "align_self": null,
            "border": null,
            "bottom": null,
            "display": null,
            "flex": null,
            "flex_flow": null,
            "grid_area": null,
            "grid_auto_columns": null,
            "grid_auto_flow": null,
            "grid_auto_rows": null,
            "grid_column": null,
            "grid_gap": null,
            "grid_row": null,
            "grid_template_areas": null,
            "grid_template_columns": null,
            "grid_template_rows": null,
            "height": null,
            "justify_content": null,
            "justify_items": null,
            "left": null,
            "margin": null,
            "max_height": null,
            "max_width": null,
            "min_height": null,
            "min_width": null,
            "object_fit": null,
            "object_position": null,
            "order": null,
            "overflow": null,
            "overflow_x": null,
            "overflow_y": null,
            "padding": null,
            "right": null,
            "top": null,
            "visibility": null,
            "width": null
          }
        },
        "f456ee61a67f4225bca45dfd181c313a": {
          "model_module": "@jupyter-widgets/controls",
          "model_module_version": "1.5.0",
          "model_name": "DescriptionStyleModel",
          "state": {
            "_model_module": "@jupyter-widgets/controls",
            "_model_module_version": "1.5.0",
            "_model_name": "DescriptionStyleModel",
            "_view_count": null,
            "_view_module": "@jupyter-widgets/base",
            "_view_module_version": "1.2.0",
            "_view_name": "StyleView",
            "description_width": ""
          }
        }
      }
    }
  },
  "nbformat": 4,
  "nbformat_minor": 0
}
